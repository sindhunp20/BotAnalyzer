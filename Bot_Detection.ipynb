{
 "cells": [
  {
   "cell_type": "code",
   "execution_count": 3,
   "metadata": {
    "colab": {
     "base_uri": "https://localhost:8080/"
    },
    "id": "2PDBz7f7XZcS",
    "outputId": "755b87dc-ad30-4448-db61-92fc8fb50d88"
   },
   "outputs": [],
   "source": [
    "\n",
    "import matplotlib.image as mpimg \n",
    "import matplotlib.pyplot as plt\n",
    "import pandas as pd\n",
    "import numpy as np\n",
    "import seaborn as sns\n",
    "import json\n",
    "import nltk\n",
    "import os\n",
    "import re\n",
    "import string\n",
    "from sklearn.decomposition import PCA\n",
    "from sklearn.ensemble import RandomForestClassifier\n",
    "from sklearn.model_selection import KFold\n",
    "from sklearn.model_selection import validation_curve\n",
    "from sklearn.linear_model import LogisticRegressionCV\n",
    "from sklearn.linear_model import LogisticRegression\n",
    "from sklearn.metrics import accuracy_score\n",
    "from sklearn.decomposition import LatentDirichletAllocation\n",
    "from sklearn.feature_extraction.text import TfidfVectorizer\n",
    "from nltk.corpus import stopwords\n",
    "from nltk import pos_tag, word_tokenize\n",
    "from sklearn.model_selection import train_test_split\n",
    "from sklearn.ensemble import RandomForestClassifier\n",
    "%matplotlib inline\n"
   ]
  },
  {
   "cell_type": "code",
   "execution_count": 2,
   "metadata": {},
   "outputs": [
    {
     "name": "stdout",
     "output_type": "stream",
     "text": [
      "Collecting nltkNote: you may need to restart the kernel to use updated packages.\n"
     ]
    },
    {
     "name": "stderr",
     "output_type": "stream",
     "text": [
      "WARNING: You are using pip version 21.1.2; however, version 22.0.3 is available.\n",
      "You should consider upgrading via the 'c:\\users\\hp\\pycharmprojects\\jupnot\\venv\\scripts\\python.exe -m pip install --upgrade pip' command.\n"
     ]
    },
    {
     "name": "stdout",
     "output_type": "stream",
     "text": [
      "\n",
      "  Using cached nltk-3.7-py3-none-any.whl (1.5 MB)\n",
      "Requirement already satisfied: click in c:\\users\\hp\\pycharmprojects\\jupnot\\venv\\lib\\site-packages (from nltk) (8.0.3)\n",
      "Collecting regex>=2021.8.3\n",
      "  Using cached regex-2022.1.18-cp310-cp310-win_amd64.whl (273 kB)\n",
      "Collecting tqdm\n",
      "  Using cached tqdm-4.62.3-py2.py3-none-any.whl (76 kB)\n",
      "Requirement already satisfied: joblib in c:\\users\\hp\\pycharmprojects\\jupnot\\venv\\lib\\site-packages (from nltk) (1.1.0)\n",
      "Requirement already satisfied: colorama in c:\\users\\hp\\pycharmprojects\\jupnot\\venv\\lib\\site-packages (from click->nltk) (0.4.4)\n",
      "Installing collected packages: tqdm, regex, nltk\n",
      "Successfully installed nltk-3.7 regex-2022.1.18 tqdm-4.62.3\n"
     ]
    }
   ],
   "source": [
    "pip install nltk"
   ]
  },
  {
   "cell_type": "code",
   "execution_count": null,
   "metadata": {},
   "outputs": [],
   "source": [
    "pip install pandas"
   ]
  },
  {
   "cell_type": "code",
   "execution_count": null,
   "metadata": {},
   "outputs": [],
   "source": [
    "pip install sklearn"
   ]
  },
  {
   "cell_type": "code",
   "execution_count": null,
   "metadata": {},
   "outputs": [],
   "source": [
    "pip install seaborn"
   ]
  },
  {
   "cell_type": "code",
   "execution_count": null,
   "metadata": {},
   "outputs": [],
   "source": [
    "pip install numpy"
   ]
  },
  {
   "cell_type": "code",
   "execution_count": null,
   "metadata": {},
   "outputs": [],
   "source": [
    "pip install matplotlib"
   ]
  },
  {
   "cell_type": "markdown",
   "metadata": {
    "id": "RRHqUuRXc_z2"
   },
   "source": [
    "# **Loading of Dataset**"
   ]
  },
  {
   "cell_type": "code",
   "execution_count": 4,
   "metadata": {
    "colab": {
     "base_uri": "https://localhost:8080/"
    },
    "id": "NDD6MVOqY5SM",
    "outputId": "61bc1a28-b16f-49b3-f019-585b0a34fe0c"
   },
   "outputs": [],
   "source": [
    "\n",
    "df = pd.read_csv('Data.csv')"
   ]
  },
  {
   "cell_type": "code",
   "execution_count": 5,
   "metadata": {
    "colab": {
     "base_uri": "https://localhost:8080/",
     "height": 991
    },
    "id": "SiRyeZYxZTDP",
    "outputId": "b7c785b6-ad47-4491-c02c-052550304b0e"
   },
   "outputs": [
    {
     "data": {
      "text/html": [
       "<div>\n",
       "<style scoped>\n",
       "    .dataframe tbody tr th:only-of-type {\n",
       "        vertical-align: middle;\n",
       "    }\n",
       "\n",
       "    .dataframe tbody tr th {\n",
       "        vertical-align: top;\n",
       "    }\n",
       "\n",
       "    .dataframe thead th {\n",
       "        text-align: right;\n",
       "    }\n",
       "</style>\n",
       "<table border=\"1\" class=\"dataframe\">\n",
       "  <thead>\n",
       "    <tr style=\"text-align: right;\">\n",
       "      <th></th>\n",
       "      <th>id</th>\n",
       "      <th>id_str</th>\n",
       "      <th>screen_name</th>\n",
       "      <th>location</th>\n",
       "      <th>description</th>\n",
       "      <th>url</th>\n",
       "      <th>followers_count</th>\n",
       "      <th>friends_count</th>\n",
       "      <th>listed_count</th>\n",
       "      <th>created_at</th>\n",
       "      <th>favourites_count</th>\n",
       "      <th>verified</th>\n",
       "      <th>statuses_count</th>\n",
       "      <th>lang</th>\n",
       "      <th>status</th>\n",
       "      <th>default_profile</th>\n",
       "      <th>default_profile_image</th>\n",
       "      <th>has_extended_profile</th>\n",
       "      <th>name</th>\n",
       "      <th>bot</th>\n",
       "    </tr>\n",
       "  </thead>\n",
       "  <tbody>\n",
       "    <tr>\n",
       "      <th>0</th>\n",
       "      <td>8.160000e+17</td>\n",
       "      <td>\"815745789754417152\"</td>\n",
       "      <td>\"HoustonPokeMap\"</td>\n",
       "      <td>\"Houston, TX\"</td>\n",
       "      <td>\"Rare and strong PokŽmon in Houston, TX. See m...</td>\n",
       "      <td>\"https://t.co/dnWuDbFRkt\"</td>\n",
       "      <td>1291</td>\n",
       "      <td>0</td>\n",
       "      <td>10</td>\n",
       "      <td>\"Mon Jan 02 02:25:26 +0000 2017\"</td>\n",
       "      <td>0</td>\n",
       "      <td>False</td>\n",
       "      <td>78554</td>\n",
       "      <td>\"en\"</td>\n",
       "      <td>{\\r      \"created_at\": \"Sun Mar 12 15:44:04 +0...</td>\n",
       "      <td>True</td>\n",
       "      <td>False</td>\n",
       "      <td>False</td>\n",
       "      <td>\"Houston PokŽ Alert\"</td>\n",
       "      <td>1</td>\n",
       "    </tr>\n",
       "    <tr>\n",
       "      <th>1</th>\n",
       "      <td>4.843621e+09</td>\n",
       "      <td>4843621225</td>\n",
       "      <td>kernyeahx</td>\n",
       "      <td>Templeville town, MD, USA</td>\n",
       "      <td>From late 2014 Socium Marketplace will make sh...</td>\n",
       "      <td>NaN</td>\n",
       "      <td>1</td>\n",
       "      <td>349</td>\n",
       "      <td>0</td>\n",
       "      <td>2/1/2016 7:37</td>\n",
       "      <td>38</td>\n",
       "      <td>False</td>\n",
       "      <td>31</td>\n",
       "      <td>en</td>\n",
       "      <td>NaN</td>\n",
       "      <td>True</td>\n",
       "      <td>False</td>\n",
       "      <td>False</td>\n",
       "      <td>Keri Nelson</td>\n",
       "      <td>1</td>\n",
       "    </tr>\n",
       "    <tr>\n",
       "      <th>2</th>\n",
       "      <td>4.303727e+09</td>\n",
       "      <td>4303727112</td>\n",
       "      <td>mattlieberisbot</td>\n",
       "      <td>NaN</td>\n",
       "      <td>Inspired by the smart, funny folks at @replyal...</td>\n",
       "      <td>https://t.co/P1e1o0m4KC</td>\n",
       "      <td>1086</td>\n",
       "      <td>0</td>\n",
       "      <td>14</td>\n",
       "      <td>Fri Nov 20 18:53:22 +0000 2015</td>\n",
       "      <td>0</td>\n",
       "      <td>False</td>\n",
       "      <td>713</td>\n",
       "      <td>en</td>\n",
       "      <td>{'retweeted': False, 'is_quote_status': False,...</td>\n",
       "      <td>True</td>\n",
       "      <td>False</td>\n",
       "      <td>False</td>\n",
       "      <td>Matt Lieber Is Bot</td>\n",
       "      <td>1</td>\n",
       "    </tr>\n",
       "    <tr>\n",
       "      <th>3</th>\n",
       "      <td>3.063139e+09</td>\n",
       "      <td>3063139353</td>\n",
       "      <td>sc_papers</td>\n",
       "      <td>NaN</td>\n",
       "      <td>NaN</td>\n",
       "      <td>NaN</td>\n",
       "      <td>33</td>\n",
       "      <td>0</td>\n",
       "      <td>8</td>\n",
       "      <td>2/25/2015 20:11</td>\n",
       "      <td>0</td>\n",
       "      <td>False</td>\n",
       "      <td>676</td>\n",
       "      <td>en</td>\n",
       "      <td>Construction of human anti-tetanus single-chai...</td>\n",
       "      <td>True</td>\n",
       "      <td>True</td>\n",
       "      <td>False</td>\n",
       "      <td>single cell papers</td>\n",
       "      <td>1</td>\n",
       "    </tr>\n",
       "    <tr>\n",
       "      <th>4</th>\n",
       "      <td>2.955142e+09</td>\n",
       "      <td>2955142070</td>\n",
       "      <td>lucarivera16</td>\n",
       "      <td>Dublin, United States</td>\n",
       "      <td>Inspiring cooks everywhere since 1956.</td>\n",
       "      <td>NaN</td>\n",
       "      <td>11</td>\n",
       "      <td>745</td>\n",
       "      <td>0</td>\n",
       "      <td>1/1/2015 17:44</td>\n",
       "      <td>146</td>\n",
       "      <td>False</td>\n",
       "      <td>185</td>\n",
       "      <td>en</td>\n",
       "      <td>NaN</td>\n",
       "      <td>False</td>\n",
       "      <td>False</td>\n",
       "      <td>False</td>\n",
       "      <td>lucarivera16</td>\n",
       "      <td>1</td>\n",
       "    </tr>\n",
       "    <tr>\n",
       "      <th>...</th>\n",
       "      <td>...</td>\n",
       "      <td>...</td>\n",
       "      <td>...</td>\n",
       "      <td>...</td>\n",
       "      <td>...</td>\n",
       "      <td>...</td>\n",
       "      <td>...</td>\n",
       "      <td>...</td>\n",
       "      <td>...</td>\n",
       "      <td>...</td>\n",
       "      <td>...</td>\n",
       "      <td>...</td>\n",
       "      <td>...</td>\n",
       "      <td>...</td>\n",
       "      <td>...</td>\n",
       "      <td>...</td>\n",
       "      <td>...</td>\n",
       "      <td>...</td>\n",
       "      <td>...</td>\n",
       "      <td>...</td>\n",
       "    </tr>\n",
       "    <tr>\n",
       "      <th>2792</th>\n",
       "      <td>2.362091e+08</td>\n",
       "      <td>236209129</td>\n",
       "      <td>leslieberland</td>\n",
       "      <td>NaN</td>\n",
       "      <td>Twitter CMO. Favorite title: Mama. Never, ever...</td>\n",
       "      <td>NaN</td>\n",
       "      <td>18998</td>\n",
       "      <td>2005</td>\n",
       "      <td>425</td>\n",
       "      <td>1/10/2011 2:06</td>\n",
       "      <td>2503</td>\n",
       "      <td>False</td>\n",
       "      <td>3498</td>\n",
       "      <td>en</td>\n",
       "      <td>RT @StationCDRKelly: Dreaming of napping in sp...</td>\n",
       "      <td>False</td>\n",
       "      <td>False</td>\n",
       "      <td>True</td>\n",
       "      <td>Leslie Berland</td>\n",
       "      <td>0</td>\n",
       "    </tr>\n",
       "    <tr>\n",
       "      <th>2793</th>\n",
       "      <td>2.545039e+08</td>\n",
       "      <td>254503881</td>\n",
       "      <td>SamuelsPants</td>\n",
       "      <td>brooklyn NY</td>\n",
       "      <td>I live in brooklyn, I'm a bike messenger, I pl...</td>\n",
       "      <td>http://t.co/CQkADdjfaw</td>\n",
       "      <td>32</td>\n",
       "      <td>54</td>\n",
       "      <td>0</td>\n",
       "      <td>Sat Feb 19 12:12:42 +0000 2011</td>\n",
       "      <td>1</td>\n",
       "      <td>False</td>\n",
       "      <td>97</td>\n",
       "      <td>en</td>\n",
       "      <td>{'geo': None, 'in_reply_to_status_id': None, '...</td>\n",
       "      <td>True</td>\n",
       "      <td>False</td>\n",
       "      <td>False</td>\n",
       "      <td>Samuel Littlefield</td>\n",
       "      <td>0</td>\n",
       "    </tr>\n",
       "    <tr>\n",
       "      <th>2794</th>\n",
       "      <td>1.548544e+07</td>\n",
       "      <td>15485441</td>\n",
       "      <td>jimmyfallon</td>\n",
       "      <td>New York, New York</td>\n",
       "      <td>astrophysicist</td>\n",
       "      <td>http://t.co/fgp5RYqr3T</td>\n",
       "      <td>45044433</td>\n",
       "      <td>7451</td>\n",
       "      <td>68157</td>\n",
       "      <td>7/18/2008 19:46</td>\n",
       "      <td>24</td>\n",
       "      <td>True</td>\n",
       "      <td>9606</td>\n",
       "      <td>en</td>\n",
       "      <td>Status(contributors=None, truncated=False, tex...</td>\n",
       "      <td>False</td>\n",
       "      <td>False</td>\n",
       "      <td>False</td>\n",
       "      <td>jimmy fallon</td>\n",
       "      <td>0</td>\n",
       "    </tr>\n",
       "    <tr>\n",
       "      <th>2795</th>\n",
       "      <td>7.513869e+08</td>\n",
       "      <td>751386872</td>\n",
       "      <td>LocalAlligator</td>\n",
       "      <td>England, United Kingdom</td>\n",
       "      <td>I'm quite out of my mind, actually, but people...</td>\n",
       "      <td>NaN</td>\n",
       "      <td>16</td>\n",
       "      <td>64</td>\n",
       "      <td>1</td>\n",
       "      <td>8/11/2012 14:53</td>\n",
       "      <td>15</td>\n",
       "      <td>False</td>\n",
       "      <td>62</td>\n",
       "      <td>en</td>\n",
       "      <td>{'created_at': 'Sun Feb 26 15:51:57 +0000 2017...</td>\n",
       "      <td>False</td>\n",
       "      <td>False</td>\n",
       "      <td>True</td>\n",
       "      <td>Tammas Foxdene</td>\n",
       "      <td>0</td>\n",
       "    </tr>\n",
       "    <tr>\n",
       "      <th>2796</th>\n",
       "      <td>1.992936e+07</td>\n",
       "      <td>19929362</td>\n",
       "      <td>RepJoeBarton</td>\n",
       "      <td>Ennis, TX</td>\n",
       "      <td>I work for the people of the 6th District of T...</td>\n",
       "      <td>http://t.co/UcrfIiWGdl</td>\n",
       "      <td>22490</td>\n",
       "      <td>308</td>\n",
       "      <td>1342</td>\n",
       "      <td>Mon Feb 02 20:30:20 +0000 2009</td>\n",
       "      <td>43</td>\n",
       "      <td>True</td>\n",
       "      <td>1897</td>\n",
       "      <td>en</td>\n",
       "      <td>{u'contributors': None, u'truncated': False, u...</td>\n",
       "      <td>True</td>\n",
       "      <td>False</td>\n",
       "      <td>True</td>\n",
       "      <td>Joe Barton</td>\n",
       "      <td>0</td>\n",
       "    </tr>\n",
       "  </tbody>\n",
       "</table>\n",
       "<p>2797 rows × 20 columns</p>\n",
       "</div>"
      ],
      "text/plain": [
       "                id                id_str       screen_name  \\\n",
       "0     8.160000e+17  \"815745789754417152\"  \"HoustonPokeMap\"   \n",
       "1     4.843621e+09            4843621225         kernyeahx   \n",
       "2     4.303727e+09            4303727112   mattlieberisbot   \n",
       "3     3.063139e+09            3063139353         sc_papers   \n",
       "4     2.955142e+09            2955142070      lucarivera16   \n",
       "...            ...                   ...               ...   \n",
       "2792  2.362091e+08             236209129     leslieberland   \n",
       "2793  2.545039e+08             254503881      SamuelsPants   \n",
       "2794  1.548544e+07              15485441       jimmyfallon   \n",
       "2795  7.513869e+08             751386872    LocalAlligator   \n",
       "2796  1.992936e+07              19929362      RepJoeBarton   \n",
       "\n",
       "                       location  \\\n",
       "0                 \"Houston, TX\"   \n",
       "1     Templeville town, MD, USA   \n",
       "2                           NaN   \n",
       "3                           NaN   \n",
       "4         Dublin, United States   \n",
       "...                         ...   \n",
       "2792                        NaN   \n",
       "2793                brooklyn NY   \n",
       "2794         New York, New York   \n",
       "2795    England, United Kingdom   \n",
       "2796                  Ennis, TX   \n",
       "\n",
       "                                            description  \\\n",
       "0     \"Rare and strong PokŽmon in Houston, TX. See m...   \n",
       "1     From late 2014 Socium Marketplace will make sh...   \n",
       "2     Inspired by the smart, funny folks at @replyal...   \n",
       "3                                                   NaN   \n",
       "4                Inspiring cooks everywhere since 1956.   \n",
       "...                                                 ...   \n",
       "2792  Twitter CMO. Favorite title: Mama. Never, ever...   \n",
       "2793  I live in brooklyn, I'm a bike messenger, I pl...   \n",
       "2794                                     astrophysicist   \n",
       "2795  I'm quite out of my mind, actually, but people...   \n",
       "2796  I work for the people of the 6th District of T...   \n",
       "\n",
       "                            url  followers_count  friends_count  listed_count  \\\n",
       "0     \"https://t.co/dnWuDbFRkt\"             1291              0            10   \n",
       "1                           NaN                1            349             0   \n",
       "2       https://t.co/P1e1o0m4KC             1086              0            14   \n",
       "3                           NaN               33              0             8   \n",
       "4                           NaN               11            745             0   \n",
       "...                         ...              ...            ...           ...   \n",
       "2792                        NaN            18998           2005           425   \n",
       "2793     http://t.co/CQkADdjfaw               32             54             0   \n",
       "2794     http://t.co/fgp5RYqr3T         45044433           7451         68157   \n",
       "2795                        NaN               16             64             1   \n",
       "2796     http://t.co/UcrfIiWGdl            22490            308          1342   \n",
       "\n",
       "                            created_at  favourites_count  verified  \\\n",
       "0     \"Mon Jan 02 02:25:26 +0000 2017\"                 0     False   \n",
       "1                        2/1/2016 7:37                38     False   \n",
       "2       Fri Nov 20 18:53:22 +0000 2015                 0     False   \n",
       "3                      2/25/2015 20:11                 0     False   \n",
       "4                       1/1/2015 17:44               146     False   \n",
       "...                                ...               ...       ...   \n",
       "2792                    1/10/2011 2:06              2503     False   \n",
       "2793    Sat Feb 19 12:12:42 +0000 2011                 1     False   \n",
       "2794                   7/18/2008 19:46                24      True   \n",
       "2795                   8/11/2012 14:53                15     False   \n",
       "2796    Mon Feb 02 20:30:20 +0000 2009                43      True   \n",
       "\n",
       "      statuses_count  lang                                             status  \\\n",
       "0              78554  \"en\"  {\\r      \"created_at\": \"Sun Mar 12 15:44:04 +0...   \n",
       "1                 31    en                                                NaN   \n",
       "2                713    en  {'retweeted': False, 'is_quote_status': False,...   \n",
       "3                676    en  Construction of human anti-tetanus single-chai...   \n",
       "4                185    en                                                NaN   \n",
       "...              ...   ...                                                ...   \n",
       "2792            3498    en  RT @StationCDRKelly: Dreaming of napping in sp...   \n",
       "2793              97    en  {'geo': None, 'in_reply_to_status_id': None, '...   \n",
       "2794            9606    en  Status(contributors=None, truncated=False, tex...   \n",
       "2795              62    en  {'created_at': 'Sun Feb 26 15:51:57 +0000 2017...   \n",
       "2796            1897    en  {u'contributors': None, u'truncated': False, u...   \n",
       "\n",
       "      default_profile  default_profile_image has_extended_profile  \\\n",
       "0                True                  False                False   \n",
       "1                True                  False                False   \n",
       "2                True                  False                False   \n",
       "3                True                   True                False   \n",
       "4               False                  False                False   \n",
       "...               ...                    ...                  ...   \n",
       "2792            False                  False                 True   \n",
       "2793             True                  False                False   \n",
       "2794            False                  False                False   \n",
       "2795            False                  False                 True   \n",
       "2796             True                  False                 True   \n",
       "\n",
       "                      name  bot  \n",
       "0     \"Houston PokŽ Alert\"    1  \n",
       "1              Keri Nelson    1  \n",
       "2       Matt Lieber Is Bot    1  \n",
       "3       single cell papers    1  \n",
       "4             lucarivera16    1  \n",
       "...                    ...  ...  \n",
       "2792        Leslie Berland    0  \n",
       "2793    Samuel Littlefield    0  \n",
       "2794          jimmy fallon    0  \n",
       "2795        Tammas Foxdene    0  \n",
       "2796            Joe Barton    0  \n",
       "\n",
       "[2797 rows x 20 columns]"
      ]
     },
     "execution_count": 5,
     "metadata": {},
     "output_type": "execute_result"
    }
   ],
   "source": [
    "df"
   ]
  },
  {
   "cell_type": "code",
   "execution_count": 6,
   "metadata": {
    "colab": {
     "base_uri": "https://localhost:8080/"
    },
    "id": "b_79IpeHZTXe",
    "outputId": "e87633f2-416b-4828-ed4b-9bfe106f189e"
   },
   "outputs": [
    {
     "data": {
      "text/plain": [
       "Index(['id', 'id_str', 'screen_name', 'location', 'description', 'url',\n",
       "       'followers_count', 'friends_count', 'listed_count', 'created_at',\n",
       "       'favourites_count', 'verified', 'statuses_count', 'lang', 'status',\n",
       "       'default_profile', 'default_profile_image', 'has_extended_profile',\n",
       "       'name', 'bot'],\n",
       "      dtype='object')"
      ]
     },
     "execution_count": 6,
     "metadata": {},
     "output_type": "execute_result"
    }
   ],
   "source": [
    "df.columns"
   ]
  },
  {
   "cell_type": "code",
   "execution_count": 7,
   "metadata": {
    "colab": {
     "base_uri": "https://localhost:8080/"
    },
    "id": "cdurDdXTZTqC",
    "outputId": "ef05f18a-439c-4cc2-9e17-e4f38467bcac"
   },
   "outputs": [
    {
     "name": "stdout",
     "output_type": "stream",
     "text": [
      "Dataset Shape:  (2797, 20) \n",
      "\n"
     ]
    }
   ],
   "source": [
    "print('Dataset Shape: ', df.shape, '\\n')"
   ]
  },
  {
   "cell_type": "code",
   "execution_count": 8,
   "metadata": {
    "colab": {
     "base_uri": "https://localhost:8080/",
     "height": 300
    },
    "id": "BtV8q4kQgQQa",
    "outputId": "33743b2a-6237-4ea7-d6ef-c63cdcb8bdac"
   },
   "outputs": [
    {
     "data": {
      "text/html": [
       "<div>\n",
       "<style scoped>\n",
       "    .dataframe tbody tr th:only-of-type {\n",
       "        vertical-align: middle;\n",
       "    }\n",
       "\n",
       "    .dataframe tbody tr th {\n",
       "        vertical-align: top;\n",
       "    }\n",
       "\n",
       "    .dataframe thead th {\n",
       "        text-align: right;\n",
       "    }\n",
       "</style>\n",
       "<table border=\"1\" class=\"dataframe\">\n",
       "  <thead>\n",
       "    <tr style=\"text-align: right;\">\n",
       "      <th></th>\n",
       "      <th>id</th>\n",
       "      <th>followers_count</th>\n",
       "      <th>friends_count</th>\n",
       "      <th>listed_count</th>\n",
       "      <th>favourites_count</th>\n",
       "      <th>statuses_count</th>\n",
       "      <th>bot</th>\n",
       "    </tr>\n",
       "  </thead>\n",
       "  <tbody>\n",
       "    <tr>\n",
       "      <th>count</th>\n",
       "      <td>2.797000e+03</td>\n",
       "      <td>2.797000e+03</td>\n",
       "      <td>2.797000e+03</td>\n",
       "      <td>2797.000000</td>\n",
       "      <td>2797.000000</td>\n",
       "      <td>2.797000e+03</td>\n",
       "      <td>2797.000000</td>\n",
       "    </tr>\n",
       "    <tr>\n",
       "      <th>mean</th>\n",
       "      <td>1.482460e+17</td>\n",
       "      <td>9.964245e+05</td>\n",
       "      <td>4.796493e+03</td>\n",
       "      <td>3192.299964</td>\n",
       "      <td>2035.577047</td>\n",
       "      <td>1.945170e+04</td>\n",
       "      <td>0.472292</td>\n",
       "    </tr>\n",
       "    <tr>\n",
       "      <th>std</th>\n",
       "      <td>3.100578e+17</td>\n",
       "      <td>5.593714e+06</td>\n",
       "      <td>5.619217e+04</td>\n",
       "      <td>17283.423291</td>\n",
       "      <td>16073.463967</td>\n",
       "      <td>1.543729e+05</td>\n",
       "      <td>0.499321</td>\n",
       "    </tr>\n",
       "    <tr>\n",
       "      <th>min</th>\n",
       "      <td>3.526000e+03</td>\n",
       "      <td>0.000000e+00</td>\n",
       "      <td>0.000000e+00</td>\n",
       "      <td>0.000000</td>\n",
       "      <td>0.000000</td>\n",
       "      <td>0.000000e+00</td>\n",
       "      <td>0.000000</td>\n",
       "    </tr>\n",
       "    <tr>\n",
       "      <th>25%</th>\n",
       "      <td>6.895649e+07</td>\n",
       "      <td>4.400000e+01</td>\n",
       "      <td>1.100000e+01</td>\n",
       "      <td>1.000000</td>\n",
       "      <td>0.000000</td>\n",
       "      <td>1.660000e+02</td>\n",
       "      <td>0.000000</td>\n",
       "    </tr>\n",
       "    <tr>\n",
       "      <th>50%</th>\n",
       "      <td>1.917035e+09</td>\n",
       "      <td>3.430000e+02</td>\n",
       "      <td>1.840000e+02</td>\n",
       "      <td>17.000000</td>\n",
       "      <td>25.000000</td>\n",
       "      <td>2.240000e+03</td>\n",
       "      <td>0.000000</td>\n",
       "    </tr>\n",
       "    <tr>\n",
       "      <th>75%</th>\n",
       "      <td>3.326332e+09</td>\n",
       "      <td>1.372500e+04</td>\n",
       "      <td>6.690000e+02</td>\n",
       "      <td>332.000000</td>\n",
       "      <td>491.000000</td>\n",
       "      <td>1.004200e+04</td>\n",
       "      <td>1.000000</td>\n",
       "    </tr>\n",
       "    <tr>\n",
       "      <th>max</th>\n",
       "      <td>8.410000e+17</td>\n",
       "      <td>9.632156e+07</td>\n",
       "      <td>2.056668e+06</td>\n",
       "      <td>620331.000000</td>\n",
       "      <td>714021.000000</td>\n",
       "      <td>6.863363e+06</td>\n",
       "      <td>1.000000</td>\n",
       "    </tr>\n",
       "  </tbody>\n",
       "</table>\n",
       "</div>"
      ],
      "text/plain": [
       "                 id  followers_count  friends_count   listed_count  \\\n",
       "count  2.797000e+03     2.797000e+03   2.797000e+03    2797.000000   \n",
       "mean   1.482460e+17     9.964245e+05   4.796493e+03    3192.299964   \n",
       "std    3.100578e+17     5.593714e+06   5.619217e+04   17283.423291   \n",
       "min    3.526000e+03     0.000000e+00   0.000000e+00       0.000000   \n",
       "25%    6.895649e+07     4.400000e+01   1.100000e+01       1.000000   \n",
       "50%    1.917035e+09     3.430000e+02   1.840000e+02      17.000000   \n",
       "75%    3.326332e+09     1.372500e+04   6.690000e+02     332.000000   \n",
       "max    8.410000e+17     9.632156e+07   2.056668e+06  620331.000000   \n",
       "\n",
       "       favourites_count  statuses_count          bot  \n",
       "count       2797.000000    2.797000e+03  2797.000000  \n",
       "mean        2035.577047    1.945170e+04     0.472292  \n",
       "std        16073.463967    1.543729e+05     0.499321  \n",
       "min            0.000000    0.000000e+00     0.000000  \n",
       "25%            0.000000    1.660000e+02     0.000000  \n",
       "50%           25.000000    2.240000e+03     0.000000  \n",
       "75%          491.000000    1.004200e+04     1.000000  \n",
       "max       714021.000000    6.863363e+06     1.000000  "
      ]
     },
     "execution_count": 8,
     "metadata": {},
     "output_type": "execute_result"
    }
   ],
   "source": [
    "df.describe()"
   ]
  },
  {
   "cell_type": "code",
   "execution_count": 9,
   "metadata": {
    "colab": {
     "base_uri": "https://localhost:8080/",
     "height": 913
    },
    "id": "V0tl_eQGgeDU",
    "outputId": "982f8c65-df47-4301-e578-7056bff66b17"
   },
   "outputs": [
    {
     "name": "stderr",
     "output_type": "stream",
     "text": [
      "C:\\Users\\HP\\AppData\\Local\\Temp\\ipykernel_27596\\3315330901.py:7: DeprecationWarning: `np.bool` is a deprecated alias for the builtin `bool`. To silence this warning, use `bool` by itself. Doing this will not modify any behavior and is safe. If you specifically wanted the numpy scalar type, use `np.bool_` here.\n",
      "Deprecated in NumPy 1.20; for more details and guidance: https://numpy.org/devdocs/release/1.20.0-notes.html#deprecations\n",
      "  mask = np.zeros_like(df[features].corr(), dtype = np.bool)\n"
     ]
    },
    {
     "data": {
      "text/plain": [
       "<AxesSubplot:title={'center':'Pearson Correlation Matrix'}>"
      ]
     },
     "execution_count": 9,
     "metadata": {},
     "output_type": "execute_result"
    },
    {
     "data": {
      "image/png": "[encoded data removed]",
      "text/plain": [
       "<Figure size 1152x864 with 2 Axes>"
      ]
     },
     "metadata": {
      "needs_background": "light"
     },
     "output_type": "display_data"
    }
   ],
   "source": [
    "features = ['id', 'id_str', 'screen_name', 'location', 'description', 'url',\n",
    "       'followers_count', 'friends_count', 'listed_count', 'created_at',\n",
    "       'favourites_count', 'verified', 'statuses_count', 'lang', 'status',\n",
    "       'default_profile', 'default_profile_image', 'has_extended_profile',\n",
    "       'name', 'bot']\n",
    "\n",
    "mask = np.zeros_like(df[features].corr(), dtype = np.bool) \n",
    "mask[np.triu_indices_from(mask)] = True \n",
    "\n",
    "f, ax = plt.subplots(figsize=(16, 12))\n",
    "plt.title('Pearson Correlation Matrix',fontsize=25)\n",
    "\n",
    "sns.heatmap(df[features].corr(),linewidths = 0.25,vmax = 0.7,square = True,cmap = \"BuGn\", \n",
    "            linecolor = 'w',annot = True,annot_kws = {\"size\":8},mask = mask,cbar_kws = {\"shrink\": 0.9})"
   ]
  },
  {
   "cell_type": "code",
   "execution_count": 10,
   "metadata": {
    "id": "26Mqw-E3ZT19"
   },
   "outputs": [],
   "source": [
    "#Classifying Bots and non bots on the basis of binary values\n",
    "training_data = pd.read_csv('Data.csv')\n",
    "bots = training_data[training_data.bot==1]\n",
    "nonbots = training_data[training_data.bot==0]"
   ]
  },
  {
   "cell_type": "code",
   "execution_count": 11,
   "metadata": {
    "colab": {
     "base_uri": "https://localhost:8080/",
     "height": 956
    },
    "id": "6Qf4F_59ZUAF",
    "outputId": "57189ca2-6b2e-4010-8ff1-e21279138670"
   },
   "outputs": [
    {
     "data": {
      "text/html": [
       "<div>\n",
       "<style scoped>\n",
       "    .dataframe tbody tr th:only-of-type {\n",
       "        vertical-align: middle;\n",
       "    }\n",
       "\n",
       "    .dataframe tbody tr th {\n",
       "        vertical-align: top;\n",
       "    }\n",
       "\n",
       "    .dataframe thead th {\n",
       "        text-align: right;\n",
       "    }\n",
       "</style>\n",
       "<table border=\"1\" class=\"dataframe\">\n",
       "  <thead>\n",
       "    <tr style=\"text-align: right;\">\n",
       "      <th></th>\n",
       "      <th>id</th>\n",
       "      <th>id_str</th>\n",
       "      <th>screen_name</th>\n",
       "      <th>location</th>\n",
       "      <th>description</th>\n",
       "      <th>url</th>\n",
       "      <th>followers_count</th>\n",
       "      <th>friends_count</th>\n",
       "      <th>listed_count</th>\n",
       "      <th>created_at</th>\n",
       "      <th>favourites_count</th>\n",
       "      <th>verified</th>\n",
       "      <th>statuses_count</th>\n",
       "      <th>lang</th>\n",
       "      <th>status</th>\n",
       "      <th>default_profile</th>\n",
       "      <th>default_profile_image</th>\n",
       "      <th>has_extended_profile</th>\n",
       "      <th>name</th>\n",
       "      <th>bot</th>\n",
       "    </tr>\n",
       "  </thead>\n",
       "  <tbody>\n",
       "    <tr>\n",
       "      <th>0</th>\n",
       "      <td>8.160000e+17</td>\n",
       "      <td>\"815745789754417152\"</td>\n",
       "      <td>\"HoustonPokeMap\"</td>\n",
       "      <td>\"Houston, TX\"</td>\n",
       "      <td>\"Rare and strong PokŽmon in Houston, TX. See m...</td>\n",
       "      <td>\"https://t.co/dnWuDbFRkt\"</td>\n",
       "      <td>1291</td>\n",
       "      <td>0</td>\n",
       "      <td>10</td>\n",
       "      <td>\"Mon Jan 02 02:25:26 +0000 2017\"</td>\n",
       "      <td>0</td>\n",
       "      <td>False</td>\n",
       "      <td>78554</td>\n",
       "      <td>\"en\"</td>\n",
       "      <td>{\\r      \"created_at\": \"Sun Mar 12 15:44:04 +0...</td>\n",
       "      <td>True</td>\n",
       "      <td>False</td>\n",
       "      <td>False</td>\n",
       "      <td>\"Houston PokŽ Alert\"</td>\n",
       "      <td>1</td>\n",
       "    </tr>\n",
       "    <tr>\n",
       "      <th>1</th>\n",
       "      <td>4.843621e+09</td>\n",
       "      <td>4843621225</td>\n",
       "      <td>kernyeahx</td>\n",
       "      <td>Templeville town, MD, USA</td>\n",
       "      <td>From late 2014 Socium Marketplace will make sh...</td>\n",
       "      <td>NaN</td>\n",
       "      <td>1</td>\n",
       "      <td>349</td>\n",
       "      <td>0</td>\n",
       "      <td>2/1/2016 7:37</td>\n",
       "      <td>38</td>\n",
       "      <td>False</td>\n",
       "      <td>31</td>\n",
       "      <td>en</td>\n",
       "      <td>NaN</td>\n",
       "      <td>True</td>\n",
       "      <td>False</td>\n",
       "      <td>False</td>\n",
       "      <td>Keri Nelson</td>\n",
       "      <td>1</td>\n",
       "    </tr>\n",
       "    <tr>\n",
       "      <th>2</th>\n",
       "      <td>4.303727e+09</td>\n",
       "      <td>4303727112</td>\n",
       "      <td>mattlieberisbot</td>\n",
       "      <td>NaN</td>\n",
       "      <td>Inspired by the smart, funny folks at @replyal...</td>\n",
       "      <td>https://t.co/P1e1o0m4KC</td>\n",
       "      <td>1086</td>\n",
       "      <td>0</td>\n",
       "      <td>14</td>\n",
       "      <td>Fri Nov 20 18:53:22 +0000 2015</td>\n",
       "      <td>0</td>\n",
       "      <td>False</td>\n",
       "      <td>713</td>\n",
       "      <td>en</td>\n",
       "      <td>{'retweeted': False, 'is_quote_status': False,...</td>\n",
       "      <td>True</td>\n",
       "      <td>False</td>\n",
       "      <td>False</td>\n",
       "      <td>Matt Lieber Is Bot</td>\n",
       "      <td>1</td>\n",
       "    </tr>\n",
       "    <tr>\n",
       "      <th>3</th>\n",
       "      <td>3.063139e+09</td>\n",
       "      <td>3063139353</td>\n",
       "      <td>sc_papers</td>\n",
       "      <td>NaN</td>\n",
       "      <td>NaN</td>\n",
       "      <td>NaN</td>\n",
       "      <td>33</td>\n",
       "      <td>0</td>\n",
       "      <td>8</td>\n",
       "      <td>2/25/2015 20:11</td>\n",
       "      <td>0</td>\n",
       "      <td>False</td>\n",
       "      <td>676</td>\n",
       "      <td>en</td>\n",
       "      <td>Construction of human anti-tetanus single-chai...</td>\n",
       "      <td>True</td>\n",
       "      <td>True</td>\n",
       "      <td>False</td>\n",
       "      <td>single cell papers</td>\n",
       "      <td>1</td>\n",
       "    </tr>\n",
       "    <tr>\n",
       "      <th>4</th>\n",
       "      <td>2.955142e+09</td>\n",
       "      <td>2955142070</td>\n",
       "      <td>lucarivera16</td>\n",
       "      <td>Dublin, United States</td>\n",
       "      <td>Inspiring cooks everywhere since 1956.</td>\n",
       "      <td>NaN</td>\n",
       "      <td>11</td>\n",
       "      <td>745</td>\n",
       "      <td>0</td>\n",
       "      <td>1/1/2015 17:44</td>\n",
       "      <td>146</td>\n",
       "      <td>False</td>\n",
       "      <td>185</td>\n",
       "      <td>en</td>\n",
       "      <td>NaN</td>\n",
       "      <td>False</td>\n",
       "      <td>False</td>\n",
       "      <td>False</td>\n",
       "      <td>lucarivera16</td>\n",
       "      <td>1</td>\n",
       "    </tr>\n",
       "    <tr>\n",
       "      <th>...</th>\n",
       "      <td>...</td>\n",
       "      <td>...</td>\n",
       "      <td>...</td>\n",
       "      <td>...</td>\n",
       "      <td>...</td>\n",
       "      <td>...</td>\n",
       "      <td>...</td>\n",
       "      <td>...</td>\n",
       "      <td>...</td>\n",
       "      <td>...</td>\n",
       "      <td>...</td>\n",
       "      <td>...</td>\n",
       "      <td>...</td>\n",
       "      <td>...</td>\n",
       "      <td>...</td>\n",
       "      <td>...</td>\n",
       "      <td>...</td>\n",
       "      <td>...</td>\n",
       "      <td>...</td>\n",
       "      <td>...</td>\n",
       "    </tr>\n",
       "    <tr>\n",
       "      <th>1316</th>\n",
       "      <td>3.299611e+09</td>\n",
       "      <td>3299611091</td>\n",
       "      <td>emojitoemoji</td>\n",
       "      <td>NaN</td>\n",
       "      <td>a bot by @inky // source: https://t.co/MJyd6NkYaf</td>\n",
       "      <td>http://t.co/PdagJGIwEp</td>\n",
       "      <td>93</td>\n",
       "      <td>0</td>\n",
       "      <td>24</td>\n",
       "      <td>Tue May 26 18:23:01 +0000 2015</td>\n",
       "      <td>0</td>\n",
       "      <td>False</td>\n",
       "      <td>5145</td>\n",
       "      <td>en</td>\n",
       "      <td>{u'contributors': None, u'truncated': False, u...</td>\n",
       "      <td>False</td>\n",
       "      <td>False</td>\n",
       "      <td>False</td>\n",
       "      <td>[face] to [face]</td>\n",
       "      <td>1</td>\n",
       "    </tr>\n",
       "    <tr>\n",
       "      <th>1317</th>\n",
       "      <td>7.450000e+17</td>\n",
       "      <td>7.45E+17</td>\n",
       "      <td>gridgenerator</td>\n",
       "      <td>NaN</td>\n",
       "      <td>Simple generated grids three times a day. bot ...</td>\n",
       "      <td>NaN</td>\n",
       "      <td>36</td>\n",
       "      <td>1</td>\n",
       "      <td>11</td>\n",
       "      <td>Tue Jun 21 15:26:48 +0000 2016</td>\n",
       "      <td>0</td>\n",
       "      <td>False</td>\n",
       "      <td>793</td>\n",
       "      <td>en</td>\n",
       "      <td>{u'contributors': None, u'truncated': False, u...</td>\n",
       "      <td>True</td>\n",
       "      <td>False</td>\n",
       "      <td>False</td>\n",
       "      <td>grids grids grids</td>\n",
       "      <td>1</td>\n",
       "    </tr>\n",
       "    <tr>\n",
       "      <th>1318</th>\n",
       "      <td>2.598999e+09</td>\n",
       "      <td>2598999212</td>\n",
       "      <td>moltar_ebooks</td>\n",
       "      <td>NaN</td>\n",
       "      <td>NaN</td>\n",
       "      <td>NaN</td>\n",
       "      <td>60</td>\n",
       "      <td>32</td>\n",
       "      <td>6</td>\n",
       "      <td>Wed Jul 02 03:10:52 +0000 2014</td>\n",
       "      <td>2</td>\n",
       "      <td>False</td>\n",
       "      <td>4365</td>\n",
       "      <td>en</td>\n",
       "      <td>{u'contributors': None, u'truncated': False, u...</td>\n",
       "      <td>True</td>\n",
       "      <td>False</td>\n",
       "      <td>False</td>\n",
       "      <td>MOLTAR EBOOKS</td>\n",
       "      <td>1</td>\n",
       "    </tr>\n",
       "    <tr>\n",
       "      <th>1319</th>\n",
       "      <td>2.386845e+09</td>\n",
       "      <td>2386845055</td>\n",
       "      <td>DCell_papers</td>\n",
       "      <td>Manchester</td>\n",
       "      <td>Journal paper feed for academics interested in...</td>\n",
       "      <td>NaN</td>\n",
       "      <td>214</td>\n",
       "      <td>0</td>\n",
       "      <td>20</td>\n",
       "      <td>3/13/2014 11:41</td>\n",
       "      <td>0</td>\n",
       "      <td>False</td>\n",
       "      <td>9727</td>\n",
       "      <td>en</td>\n",
       "      <td>Kynurenic acid downregulates IL-17/1L-23 axis ...</td>\n",
       "      <td>True</td>\n",
       "      <td>False</td>\n",
       "      <td>False</td>\n",
       "      <td>Dendritic cells</td>\n",
       "      <td>1</td>\n",
       "    </tr>\n",
       "    <tr>\n",
       "      <th>1320</th>\n",
       "      <td>8.130000e+17</td>\n",
       "      <td>8.13E+17</td>\n",
       "      <td>A20989664A</td>\n",
       "      <td>NaN</td>\n",
       "      <td>Free Follow for @jalfiebutler ... follow back ...</td>\n",
       "      <td>NaN</td>\n",
       "      <td>34</td>\n",
       "      <td>787</td>\n",
       "      <td>0</td>\n",
       "      <td>Sat Dec 24 13:29:44 +0000 2016</td>\n",
       "      <td>7</td>\n",
       "      <td>False</td>\n",
       "      <td>2</td>\n",
       "      <td>en</td>\n",
       "      <td>{'truncated': False, 'entities': {'user_mentio...</td>\n",
       "      <td>True</td>\n",
       "      <td>True</td>\n",
       "      <td>False</td>\n",
       "      <td>READ BIO</td>\n",
       "      <td>1</td>\n",
       "    </tr>\n",
       "  </tbody>\n",
       "</table>\n",
       "<p>1321 rows × 20 columns</p>\n",
       "</div>"
      ],
      "text/plain": [
       "                id                id_str       screen_name  \\\n",
       "0     8.160000e+17  \"815745789754417152\"  \"HoustonPokeMap\"   \n",
       "1     4.843621e+09            4843621225         kernyeahx   \n",
       "2     4.303727e+09            4303727112   mattlieberisbot   \n",
       "3     3.063139e+09            3063139353         sc_papers   \n",
       "4     2.955142e+09            2955142070      lucarivera16   \n",
       "...            ...                   ...               ...   \n",
       "1316  3.299611e+09            3299611091      emojitoemoji   \n",
       "1317  7.450000e+17              7.45E+17     gridgenerator   \n",
       "1318  2.598999e+09            2598999212     moltar_ebooks   \n",
       "1319  2.386845e+09            2386845055      DCell_papers   \n",
       "1320  8.130000e+17              8.13E+17        A20989664A   \n",
       "\n",
       "                       location  \\\n",
       "0                 \"Houston, TX\"   \n",
       "1     Templeville town, MD, USA   \n",
       "2                           NaN   \n",
       "3                           NaN   \n",
       "4         Dublin, United States   \n",
       "...                         ...   \n",
       "1316                        NaN   \n",
       "1317                        NaN   \n",
       "1318                        NaN   \n",
       "1319                 Manchester   \n",
       "1320                        NaN   \n",
       "\n",
       "                                            description  \\\n",
       "0     \"Rare and strong PokŽmon in Houston, TX. See m...   \n",
       "1     From late 2014 Socium Marketplace will make sh...   \n",
       "2     Inspired by the smart, funny folks at @replyal...   \n",
       "3                                                   NaN   \n",
       "4                Inspiring cooks everywhere since 1956.   \n",
       "...                                                 ...   \n",
       "1316  a bot by @inky // source: https://t.co/MJyd6NkYaf   \n",
       "1317  Simple generated grids three times a day. bot ...   \n",
       "1318                                                NaN   \n",
       "1319  Journal paper feed for academics interested in...   \n",
       "1320  Free Follow for @jalfiebutler ... follow back ...   \n",
       "\n",
       "                            url  followers_count  friends_count  listed_count  \\\n",
       "0     \"https://t.co/dnWuDbFRkt\"             1291              0            10   \n",
       "1                           NaN                1            349             0   \n",
       "2       https://t.co/P1e1o0m4KC             1086              0            14   \n",
       "3                           NaN               33              0             8   \n",
       "4                           NaN               11            745             0   \n",
       "...                         ...              ...            ...           ...   \n",
       "1316     http://t.co/PdagJGIwEp               93              0            24   \n",
       "1317                        NaN               36              1            11   \n",
       "1318                        NaN               60             32             6   \n",
       "1319                        NaN              214              0            20   \n",
       "1320                        NaN               34            787             0   \n",
       "\n",
       "                            created_at  favourites_count  verified  \\\n",
       "0     \"Mon Jan 02 02:25:26 +0000 2017\"                 0     False   \n",
       "1                        2/1/2016 7:37                38     False   \n",
       "2       Fri Nov 20 18:53:22 +0000 2015                 0     False   \n",
       "3                      2/25/2015 20:11                 0     False   \n",
       "4                       1/1/2015 17:44               146     False   \n",
       "...                                ...               ...       ...   \n",
       "1316    Tue May 26 18:23:01 +0000 2015                 0     False   \n",
       "1317    Tue Jun 21 15:26:48 +0000 2016                 0     False   \n",
       "1318    Wed Jul 02 03:10:52 +0000 2014                 2     False   \n",
       "1319                   3/13/2014 11:41                 0     False   \n",
       "1320    Sat Dec 24 13:29:44 +0000 2016                 7     False   \n",
       "\n",
       "      statuses_count  lang                                             status  \\\n",
       "0              78554  \"en\"  {\\r      \"created_at\": \"Sun Mar 12 15:44:04 +0...   \n",
       "1                 31    en                                                NaN   \n",
       "2                713    en  {'retweeted': False, 'is_quote_status': False,...   \n",
       "3                676    en  Construction of human anti-tetanus single-chai...   \n",
       "4                185    en                                                NaN   \n",
       "...              ...   ...                                                ...   \n",
       "1316            5145    en  {u'contributors': None, u'truncated': False, u...   \n",
       "1317             793    en  {u'contributors': None, u'truncated': False, u...   \n",
       "1318            4365    en  {u'contributors': None, u'truncated': False, u...   \n",
       "1319            9727    en  Kynurenic acid downregulates IL-17/1L-23 axis ...   \n",
       "1320               2    en  {'truncated': False, 'entities': {'user_mentio...   \n",
       "\n",
       "      default_profile  default_profile_image has_extended_profile  \\\n",
       "0                True                  False                False   \n",
       "1                True                  False                False   \n",
       "2                True                  False                False   \n",
       "3                True                   True                False   \n",
       "4               False                  False                False   \n",
       "...               ...                    ...                  ...   \n",
       "1316            False                  False                False   \n",
       "1317             True                  False                False   \n",
       "1318             True                  False                False   \n",
       "1319             True                  False                False   \n",
       "1320             True                   True                False   \n",
       "\n",
       "                      name  bot  \n",
       "0     \"Houston PokŽ Alert\"    1  \n",
       "1              Keri Nelson    1  \n",
       "2       Matt Lieber Is Bot    1  \n",
       "3       single cell papers    1  \n",
       "4             lucarivera16    1  \n",
       "...                    ...  ...  \n",
       "1316      [face] to [face]    1  \n",
       "1317     grids grids grids    1  \n",
       "1318         MOLTAR EBOOKS    1  \n",
       "1319       Dendritic cells    1  \n",
       "1320              READ BIO    1  \n",
       "\n",
       "[1321 rows x 20 columns]"
      ]
     },
     "execution_count": 11,
     "metadata": {},
     "output_type": "execute_result"
    }
   ],
   "source": [
    "bots"
   ]
  },
  {
   "cell_type": "code",
   "execution_count": 12,
   "metadata": {
    "colab": {
     "base_uri": "https://localhost:8080/",
     "height": 904
    },
    "id": "Ca5v5JNXZUoY",
    "outputId": "e46b163b-f1ef-48b7-aae2-cc488f590376"
   },
   "outputs": [
    {
     "data": {
      "text/html": [
       "<div>\n",
       "<style scoped>\n",
       "    .dataframe tbody tr th:only-of-type {\n",
       "        vertical-align: middle;\n",
       "    }\n",
       "\n",
       "    .dataframe tbody tr th {\n",
       "        vertical-align: top;\n",
       "    }\n",
       "\n",
       "    .dataframe thead th {\n",
       "        text-align: right;\n",
       "    }\n",
       "</style>\n",
       "<table border=\"1\" class=\"dataframe\">\n",
       "  <thead>\n",
       "    <tr style=\"text-align: right;\">\n",
       "      <th></th>\n",
       "      <th>id</th>\n",
       "      <th>id_str</th>\n",
       "      <th>screen_name</th>\n",
       "      <th>location</th>\n",
       "      <th>description</th>\n",
       "      <th>url</th>\n",
       "      <th>followers_count</th>\n",
       "      <th>friends_count</th>\n",
       "      <th>listed_count</th>\n",
       "      <th>created_at</th>\n",
       "      <th>favourites_count</th>\n",
       "      <th>verified</th>\n",
       "      <th>statuses_count</th>\n",
       "      <th>lang</th>\n",
       "      <th>status</th>\n",
       "      <th>default_profile</th>\n",
       "      <th>default_profile_image</th>\n",
       "      <th>has_extended_profile</th>\n",
       "      <th>name</th>\n",
       "      <th>bot</th>\n",
       "    </tr>\n",
       "  </thead>\n",
       "  <tbody>\n",
       "    <tr>\n",
       "      <th>1321</th>\n",
       "      <td>34716038.0</td>\n",
       "      <td>34716038</td>\n",
       "      <td>aaroncarter</td>\n",
       "      <td>Sony Recording Artist</td>\n",
       "      <td>NEW AARON CARTER MUSIC DOWNLOAD LINK LÌüVÌÇ EP...</td>\n",
       "      <td>NaN</td>\n",
       "      <td>571310</td>\n",
       "      <td>76070</td>\n",
       "      <td>4909</td>\n",
       "      <td>Thu Apr 23 20:15:49 +0000 2009</td>\n",
       "      <td>37437</td>\n",
       "      <td>True</td>\n",
       "      <td>56077</td>\n",
       "      <td>en</td>\n",
       "      <td>{u'contributors': None, u'truncated': False, u...</td>\n",
       "      <td>False</td>\n",
       "      <td>False</td>\n",
       "      <td>True</td>\n",
       "      <td>Aaron Carter</td>\n",
       "      <td>0</td>\n",
       "    </tr>\n",
       "    <tr>\n",
       "      <th>1322</th>\n",
       "      <td>3013511.0</td>\n",
       "      <td>3013511</td>\n",
       "      <td>michellebranch</td>\n",
       "      <td>NaN</td>\n",
       "      <td>singer/songwriter, hopeless romantic, drinker ...</td>\n",
       "      <td>https://t.co/2vSKw7cmzC</td>\n",
       "      <td>292385</td>\n",
       "      <td>963</td>\n",
       "      <td>6076</td>\n",
       "      <td>Fri Mar 30 20:58:59 +0000 2007</td>\n",
       "      <td>1248</td>\n",
       "      <td>True</td>\n",
       "      <td>16688</td>\n",
       "      <td>en</td>\n",
       "      <td>{u'contributors': None, u'truncated': False, u...</td>\n",
       "      <td>False</td>\n",
       "      <td>False</td>\n",
       "      <td>False</td>\n",
       "      <td>Michelle Branch</td>\n",
       "      <td>0</td>\n",
       "    </tr>\n",
       "    <tr>\n",
       "      <th>1323</th>\n",
       "      <td>56237623.0</td>\n",
       "      <td>56237623</td>\n",
       "      <td>stronginmyfaith</td>\n",
       "      <td>NaN</td>\n",
       "      <td>NaN</td>\n",
       "      <td>NaN</td>\n",
       "      <td>1</td>\n",
       "      <td>7</td>\n",
       "      <td>0</td>\n",
       "      <td>7/13/2009 0:38</td>\n",
       "      <td>0</td>\n",
       "      <td>False</td>\n",
       "      <td>3</td>\n",
       "      <td>en</td>\n",
       "      <td>Status(contributors=None, truncated=False, tex...</td>\n",
       "      <td>True</td>\n",
       "      <td>True</td>\n",
       "      <td>False</td>\n",
       "      <td>laurie lindeman</td>\n",
       "      <td>0</td>\n",
       "    </tr>\n",
       "    <tr>\n",
       "      <th>1324</th>\n",
       "      <td>27964284.0</td>\n",
       "      <td>27964284</td>\n",
       "      <td>Jessicaveronica</td>\n",
       "      <td>5th Dimension</td>\n",
       "      <td>@TheVeronicas ‰Ü  Wanderer, worshiper, if you ...</td>\n",
       "      <td>https://t.co/U6yNZoDZfu</td>\n",
       "      <td>222659</td>\n",
       "      <td>352</td>\n",
       "      <td>3261</td>\n",
       "      <td>Tue Mar 31 21:12:33 +0000 2009</td>\n",
       "      <td>143</td>\n",
       "      <td>True</td>\n",
       "      <td>10999</td>\n",
       "      <td>en</td>\n",
       "      <td>{u'contributors': None, u'truncated': False, u...</td>\n",
       "      <td>False</td>\n",
       "      <td>False</td>\n",
       "      <td>False</td>\n",
       "      <td>Jessica Veronica</td>\n",
       "      <td>0</td>\n",
       "    </tr>\n",
       "    <tr>\n",
       "      <th>1325</th>\n",
       "      <td>552876065.0</td>\n",
       "      <td>552876065</td>\n",
       "      <td>resargento</td>\n",
       "      <td>brasil</td>\n",
       "      <td>meio ogra mas o coraí_í£o í© de mocinha</td>\n",
       "      <td>NaN</td>\n",
       "      <td>646</td>\n",
       "      <td>446</td>\n",
       "      <td>2</td>\n",
       "      <td>4/13/2012 17:37</td>\n",
       "      <td>13440</td>\n",
       "      <td>False</td>\n",
       "      <td>25292</td>\n",
       "      <td>pt</td>\n",
       "      <td>NaN</td>\n",
       "      <td>False</td>\n",
       "      <td>False</td>\n",
       "      <td>False</td>\n",
       "      <td>rebosta</td>\n",
       "      <td>0</td>\n",
       "    </tr>\n",
       "    <tr>\n",
       "      <th>...</th>\n",
       "      <td>...</td>\n",
       "      <td>...</td>\n",
       "      <td>...</td>\n",
       "      <td>...</td>\n",
       "      <td>...</td>\n",
       "      <td>...</td>\n",
       "      <td>...</td>\n",
       "      <td>...</td>\n",
       "      <td>...</td>\n",
       "      <td>...</td>\n",
       "      <td>...</td>\n",
       "      <td>...</td>\n",
       "      <td>...</td>\n",
       "      <td>...</td>\n",
       "      <td>...</td>\n",
       "      <td>...</td>\n",
       "      <td>...</td>\n",
       "      <td>...</td>\n",
       "      <td>...</td>\n",
       "      <td>...</td>\n",
       "    </tr>\n",
       "    <tr>\n",
       "      <th>2792</th>\n",
       "      <td>236209129.0</td>\n",
       "      <td>236209129</td>\n",
       "      <td>leslieberland</td>\n",
       "      <td>NaN</td>\n",
       "      <td>Twitter CMO. Favorite title: Mama. Never, ever...</td>\n",
       "      <td>NaN</td>\n",
       "      <td>18998</td>\n",
       "      <td>2005</td>\n",
       "      <td>425</td>\n",
       "      <td>1/10/2011 2:06</td>\n",
       "      <td>2503</td>\n",
       "      <td>False</td>\n",
       "      <td>3498</td>\n",
       "      <td>en</td>\n",
       "      <td>RT @StationCDRKelly: Dreaming of napping in sp...</td>\n",
       "      <td>False</td>\n",
       "      <td>False</td>\n",
       "      <td>True</td>\n",
       "      <td>Leslie Berland</td>\n",
       "      <td>0</td>\n",
       "    </tr>\n",
       "    <tr>\n",
       "      <th>2793</th>\n",
       "      <td>254503881.0</td>\n",
       "      <td>254503881</td>\n",
       "      <td>SamuelsPants</td>\n",
       "      <td>brooklyn NY</td>\n",
       "      <td>I live in brooklyn, I'm a bike messenger, I pl...</td>\n",
       "      <td>http://t.co/CQkADdjfaw</td>\n",
       "      <td>32</td>\n",
       "      <td>54</td>\n",
       "      <td>0</td>\n",
       "      <td>Sat Feb 19 12:12:42 +0000 2011</td>\n",
       "      <td>1</td>\n",
       "      <td>False</td>\n",
       "      <td>97</td>\n",
       "      <td>en</td>\n",
       "      <td>{'geo': None, 'in_reply_to_status_id': None, '...</td>\n",
       "      <td>True</td>\n",
       "      <td>False</td>\n",
       "      <td>False</td>\n",
       "      <td>Samuel Littlefield</td>\n",
       "      <td>0</td>\n",
       "    </tr>\n",
       "    <tr>\n",
       "      <th>2794</th>\n",
       "      <td>15485441.0</td>\n",
       "      <td>15485441</td>\n",
       "      <td>jimmyfallon</td>\n",
       "      <td>New York, New York</td>\n",
       "      <td>astrophysicist</td>\n",
       "      <td>http://t.co/fgp5RYqr3T</td>\n",
       "      <td>45044433</td>\n",
       "      <td>7451</td>\n",
       "      <td>68157</td>\n",
       "      <td>7/18/2008 19:46</td>\n",
       "      <td>24</td>\n",
       "      <td>True</td>\n",
       "      <td>9606</td>\n",
       "      <td>en</td>\n",
       "      <td>Status(contributors=None, truncated=False, tex...</td>\n",
       "      <td>False</td>\n",
       "      <td>False</td>\n",
       "      <td>False</td>\n",
       "      <td>jimmy fallon</td>\n",
       "      <td>0</td>\n",
       "    </tr>\n",
       "    <tr>\n",
       "      <th>2795</th>\n",
       "      <td>751386872.0</td>\n",
       "      <td>751386872</td>\n",
       "      <td>LocalAlligator</td>\n",
       "      <td>England, United Kingdom</td>\n",
       "      <td>I'm quite out of my mind, actually, but people...</td>\n",
       "      <td>NaN</td>\n",
       "      <td>16</td>\n",
       "      <td>64</td>\n",
       "      <td>1</td>\n",
       "      <td>8/11/2012 14:53</td>\n",
       "      <td>15</td>\n",
       "      <td>False</td>\n",
       "      <td>62</td>\n",
       "      <td>en</td>\n",
       "      <td>{'created_at': 'Sun Feb 26 15:51:57 +0000 2017...</td>\n",
       "      <td>False</td>\n",
       "      <td>False</td>\n",
       "      <td>True</td>\n",
       "      <td>Tammas Foxdene</td>\n",
       "      <td>0</td>\n",
       "    </tr>\n",
       "    <tr>\n",
       "      <th>2796</th>\n",
       "      <td>19929362.0</td>\n",
       "      <td>19929362</td>\n",
       "      <td>RepJoeBarton</td>\n",
       "      <td>Ennis, TX</td>\n",
       "      <td>I work for the people of the 6th District of T...</td>\n",
       "      <td>http://t.co/UcrfIiWGdl</td>\n",
       "      <td>22490</td>\n",
       "      <td>308</td>\n",
       "      <td>1342</td>\n",
       "      <td>Mon Feb 02 20:30:20 +0000 2009</td>\n",
       "      <td>43</td>\n",
       "      <td>True</td>\n",
       "      <td>1897</td>\n",
       "      <td>en</td>\n",
       "      <td>{u'contributors': None, u'truncated': False, u...</td>\n",
       "      <td>True</td>\n",
       "      <td>False</td>\n",
       "      <td>True</td>\n",
       "      <td>Joe Barton</td>\n",
       "      <td>0</td>\n",
       "    </tr>\n",
       "  </tbody>\n",
       "</table>\n",
       "<p>1476 rows × 20 columns</p>\n",
       "</div>"
      ],
      "text/plain": [
       "               id     id_str      screen_name                 location  \\\n",
       "1321   34716038.0   34716038      aaroncarter   Sony Recording Artist    \n",
       "1322    3013511.0    3013511   michellebranch                      NaN   \n",
       "1323   56237623.0   56237623  stronginmyfaith                      NaN   \n",
       "1324   27964284.0   27964284  Jessicaveronica           5th Dimension    \n",
       "1325  552876065.0  552876065       resargento                   brasil   \n",
       "...           ...        ...              ...                      ...   \n",
       "2792  236209129.0  236209129    leslieberland                      NaN   \n",
       "2793  254503881.0  254503881     SamuelsPants              brooklyn NY   \n",
       "2794   15485441.0   15485441      jimmyfallon       New York, New York   \n",
       "2795  751386872.0  751386872   LocalAlligator  England, United Kingdom   \n",
       "2796   19929362.0   19929362     RepJoeBarton                Ennis, TX   \n",
       "\n",
       "                                            description  \\\n",
       "1321  NEW AARON CARTER MUSIC DOWNLOAD LINK LÌüVÌÇ EP...   \n",
       "1322  singer/songwriter, hopeless romantic, drinker ...   \n",
       "1323                                                NaN   \n",
       "1324  @TheVeronicas ‰Ü  Wanderer, worshiper, if you ...   \n",
       "1325            meio ogra mas o coraí_í£o í© de mocinha   \n",
       "...                                                 ...   \n",
       "2792  Twitter CMO. Favorite title: Mama. Never, ever...   \n",
       "2793  I live in brooklyn, I'm a bike messenger, I pl...   \n",
       "2794                                     astrophysicist   \n",
       "2795  I'm quite out of my mind, actually, but people...   \n",
       "2796  I work for the people of the 6th District of T...   \n",
       "\n",
       "                          url  followers_count  friends_count  listed_count  \\\n",
       "1321                      NaN           571310          76070          4909   \n",
       "1322  https://t.co/2vSKw7cmzC           292385            963          6076   \n",
       "1323                      NaN                1              7             0   \n",
       "1324  https://t.co/U6yNZoDZfu           222659            352          3261   \n",
       "1325                      NaN              646            446             2   \n",
       "...                       ...              ...            ...           ...   \n",
       "2792                      NaN            18998           2005           425   \n",
       "2793   http://t.co/CQkADdjfaw               32             54             0   \n",
       "2794   http://t.co/fgp5RYqr3T         45044433           7451         68157   \n",
       "2795                      NaN               16             64             1   \n",
       "2796   http://t.co/UcrfIiWGdl            22490            308          1342   \n",
       "\n",
       "                          created_at  favourites_count  verified  \\\n",
       "1321  Thu Apr 23 20:15:49 +0000 2009             37437      True   \n",
       "1322  Fri Mar 30 20:58:59 +0000 2007              1248      True   \n",
       "1323                  7/13/2009 0:38                 0     False   \n",
       "1324  Tue Mar 31 21:12:33 +0000 2009               143      True   \n",
       "1325                 4/13/2012 17:37             13440     False   \n",
       "...                              ...               ...       ...   \n",
       "2792                  1/10/2011 2:06              2503     False   \n",
       "2793  Sat Feb 19 12:12:42 +0000 2011                 1     False   \n",
       "2794                 7/18/2008 19:46                24      True   \n",
       "2795                 8/11/2012 14:53                15     False   \n",
       "2796  Mon Feb 02 20:30:20 +0000 2009                43      True   \n",
       "\n",
       "      statuses_count lang                                             status  \\\n",
       "1321           56077   en  {u'contributors': None, u'truncated': False, u...   \n",
       "1322           16688   en  {u'contributors': None, u'truncated': False, u...   \n",
       "1323               3   en  Status(contributors=None, truncated=False, tex...   \n",
       "1324           10999   en  {u'contributors': None, u'truncated': False, u...   \n",
       "1325           25292   pt                                                NaN   \n",
       "...              ...  ...                                                ...   \n",
       "2792            3498   en  RT @StationCDRKelly: Dreaming of napping in sp...   \n",
       "2793              97   en  {'geo': None, 'in_reply_to_status_id': None, '...   \n",
       "2794            9606   en  Status(contributors=None, truncated=False, tex...   \n",
       "2795              62   en  {'created_at': 'Sun Feb 26 15:51:57 +0000 2017...   \n",
       "2796            1897   en  {u'contributors': None, u'truncated': False, u...   \n",
       "\n",
       "      default_profile  default_profile_image has_extended_profile  \\\n",
       "1321            False                  False                 True   \n",
       "1322            False                  False                False   \n",
       "1323             True                   True                False   \n",
       "1324            False                  False                False   \n",
       "1325            False                  False                False   \n",
       "...               ...                    ...                  ...   \n",
       "2792            False                  False                 True   \n",
       "2793             True                  False                False   \n",
       "2794            False                  False                False   \n",
       "2795            False                  False                 True   \n",
       "2796             True                  False                 True   \n",
       "\n",
       "                    name  bot  \n",
       "1321        Aaron Carter    0  \n",
       "1322     Michelle Branch    0  \n",
       "1323     laurie lindeman    0  \n",
       "1324    Jessica Veronica    0  \n",
       "1325             rebosta    0  \n",
       "...                  ...  ...  \n",
       "2792      Leslie Berland    0  \n",
       "2793  Samuel Littlefield    0  \n",
       "2794        jimmy fallon    0  \n",
       "2795      Tammas Foxdene    0  \n",
       "2796          Joe Barton    0  \n",
       "\n",
       "[1476 rows x 20 columns]"
      ]
     },
     "execution_count": 12,
     "metadata": {},
     "output_type": "execute_result"
    }
   ],
   "source": [
    "nonbots"
   ]
  },
  {
   "cell_type": "code",
   "execution_count": 13,
   "metadata": {
    "colab": {
     "base_uri": "https://localhost:8080/",
     "height": 1000
    },
    "id": "K16w1H7Kgr9b",
    "outputId": "364b02c8-3605-40a4-d5c6-e017028591b2"
   },
   "outputs": [
    {
     "data": {
      "image/png": "[encoded data removed]",
      "text/plain": [
       "<Figure size 360x360 with 1 Axes>"
      ]
     },
     "metadata": {
      "needs_background": "light"
     },
     "output_type": "display_data"
    },
    {
     "data": {
      "image/png": "[encoded data removed]",
      "text/plain": [
       "<Figure size 360x360 with 1 Axes>"
      ]
     },
     "metadata": {
      "needs_background": "light"
     },
     "output_type": "display_data"
    },
    {
     "data": {
      "image/png": "[encoded data removed]",
      "text/plain": [
       "<Figure size 360x360 with 1 Axes>"
      ]
     },
     "metadata": {
      "needs_background": "light"
     },
     "output_type": "display_data"
    }
   ],
   "source": [
    "sns.catplot(x=\"bot\", y=\"followers_count\", data=df);\n",
    "sns.catplot(x=\"bot\", y=\"friends_count\", data=df);\n",
    "sns.catplot(x=\"bot\", y=\"listed_count\", data=df);"
   ]
  },
  {
   "cell_type": "code",
   "execution_count": 14,
   "metadata": {
    "colab": {
     "base_uri": "https://localhost:8080/",
     "height": 1000
    },
    "id": "wJ0Gn1Gbg-7W",
    "outputId": "6c092c71-7ab9-4685-e854-681df8b97782"
   },
   "outputs": [
    {
     "data": {
      "image/png": "[encoded data removed]",
      "text/plain": [
       "<Figure size 360x360 with 1 Axes>"
      ]
     },
     "metadata": {
      "needs_background": "light"
     },
     "output_type": "display_data"
    },
    {
     "data": {
      "image/png": "[encoded data removed]",
      "text/plain": [
       "<Figure size 360x360 with 1 Axes>"
      ]
     },
     "metadata": {
      "needs_background": "light"
     },
     "output_type": "display_data"
    },
    {
     "data": {
      "image/png": "[encoded data removed]",
      "text/plain": [
       "<Figure size 360x360 with 1 Axes>"
      ]
     },
     "metadata": {
      "needs_background": "light"
     },
     "output_type": "display_data"
    }
   ],
   "source": [
    "sns.catplot(x=\"bot\", y=\"favourites_count\", data=df);\n",
    "sns.catplot(x=\"bot\", y=\"verified\", data=df);\n",
    "sns.catplot(x=\"bot\", y=\"statuses_count\", data=df);"
   ]
  },
  {
   "cell_type": "code",
   "execution_count": 15,
   "metadata": {
    "id": "OgOrmt8TZVGf"
   },
   "outputs": [],
   "source": [
    "#converting bots and nonbots dataframe to a csv file\n",
    "bots.to_csv('bot_data.csv', index=False)\n",
    "nonbots.to_csv('nonbot_data.csv', index = False)"
   ]
  },
  {
   "cell_type": "code",
   "execution_count": 16,
   "metadata": {
    "colab": {
     "base_uri": "https://localhost:8080/",
     "height": 904
    },
    "id": "rnijBrtAZVPk",
    "outputId": "539f3e37-e62c-4168-c29d-233082b5c665"
   },
   "outputs": [
    {
     "data": {
      "text/html": [
       "<div>\n",
       "<style scoped>\n",
       "    .dataframe tbody tr th:only-of-type {\n",
       "        vertical-align: middle;\n",
       "    }\n",
       "\n",
       "    .dataframe tbody tr th {\n",
       "        vertical-align: top;\n",
       "    }\n",
       "\n",
       "    .dataframe thead th {\n",
       "        text-align: right;\n",
       "    }\n",
       "</style>\n",
       "<table border=\"1\" class=\"dataframe\">\n",
       "  <thead>\n",
       "    <tr style=\"text-align: right;\">\n",
       "      <th></th>\n",
       "      <th>id</th>\n",
       "      <th>id_str</th>\n",
       "      <th>screen_name</th>\n",
       "      <th>location</th>\n",
       "      <th>description</th>\n",
       "      <th>url</th>\n",
       "      <th>followers_count</th>\n",
       "      <th>friends_count</th>\n",
       "      <th>listed_count</th>\n",
       "      <th>created_at</th>\n",
       "      <th>favorites_count</th>\n",
       "      <th>verified</th>\n",
       "      <th>statuses_count</th>\n",
       "      <th>lang</th>\n",
       "      <th>status</th>\n",
       "      <th>default_profile</th>\n",
       "      <th>default_profile_image</th>\n",
       "      <th>has_extended_profile</th>\n",
       "      <th>name</th>\n",
       "      <th>bot</th>\n",
       "    </tr>\n",
       "  </thead>\n",
       "  <tbody>\n",
       "    <tr>\n",
       "      <th>0</th>\n",
       "      <td>2.281293e+09</td>\n",
       "      <td>2281292622</td>\n",
       "      <td>__keating</td>\n",
       "      <td>brooklyn</td>\n",
       "      <td>lgbt editor at @buzzfeed. shannon.keating@buzz...</td>\n",
       "      <td>https://t.co/QneJmYRyhj</td>\n",
       "      <td>4466</td>\n",
       "      <td>1295</td>\n",
       "      <td>111</td>\n",
       "      <td>Tue Jan 07 23:26:52 +0000 2014</td>\n",
       "      <td>1579</td>\n",
       "      <td>TRUE</td>\n",
       "      <td>3036</td>\n",
       "      <td>en</td>\n",
       "      <td>{'created_at': 'Tue Apr 11 15:31:51 +0000 2017...</td>\n",
       "      <td>FALSE</td>\n",
       "      <td>FALSE</td>\n",
       "      <td>FALSE</td>\n",
       "      <td>shannon keating</td>\n",
       "      <td>NaN</td>\n",
       "    </tr>\n",
       "    <tr>\n",
       "      <th>1</th>\n",
       "      <td>2.344040e+09</td>\n",
       "      <td>2344040251</td>\n",
       "      <td>_callme_Dani</td>\n",
       "      <td>Los Angeles, CA</td>\n",
       "      <td>News Curation Editor @BuzzFeedNews \\rI do a lo...</td>\n",
       "      <td>NaN</td>\n",
       "      <td>295</td>\n",
       "      <td>1016</td>\n",
       "      <td>10</td>\n",
       "      <td>Fri Feb 14 19:45:56 +0000 2014</td>\n",
       "      <td>300</td>\n",
       "      <td>FALSE</td>\n",
       "      <td>618</td>\n",
       "      <td>en</td>\n",
       "      <td>{'created_at': 'Tue Apr 11 00:56:02 +0000 2017...</td>\n",
       "      <td>FALSE</td>\n",
       "      <td>FALSE</td>\n",
       "      <td>FALSE</td>\n",
       "      <td>Danielle Hopkins</td>\n",
       "      <td>NaN</td>\n",
       "    </tr>\n",
       "    <tr>\n",
       "      <th>2</th>\n",
       "      <td>7.658713e+08</td>\n",
       "      <td>765871267</td>\n",
       "      <td>_little_britt_</td>\n",
       "      <td>NaN</td>\n",
       "      <td>Family comes first! Also I am in love with piz...</td>\n",
       "      <td>https://t.co/E7DE1cJB7e</td>\n",
       "      <td>1001678</td>\n",
       "      <td>3017</td>\n",
       "      <td>14</td>\n",
       "      <td>8/18/2012 15:13</td>\n",
       "      <td>13040</td>\n",
       "      <td>TRUE</td>\n",
       "      <td>3329</td>\n",
       "      <td>en</td>\n",
       "      <td>{'place': None, 'retweeted': False, 'favorited...</td>\n",
       "      <td>TRUE</td>\n",
       "      <td>FALSE</td>\n",
       "      <td>TRUE</td>\n",
       "      <td>Brittney Smith</td>\n",
       "      <td>NaN</td>\n",
       "    </tr>\n",
       "    <tr>\n",
       "      <th>3</th>\n",
       "      <td>4.772373e+09</td>\n",
       "      <td>4772373433</td>\n",
       "      <td>134k5</td>\n",
       "      <td>NaN</td>\n",
       "      <td>@BuzzFeedJapan ��� @cnet_japan / DM��܋�㋁_��_��...</td>\n",
       "      <td>https://t.co/Cbguzs2PjT</td>\n",
       "      <td>445</td>\n",
       "      <td>487</td>\n",
       "      <td>17</td>\n",
       "      <td>Sun Jan 17 07:11:45 +0000 2016</td>\n",
       "      <td>1112</td>\n",
       "      <td>FALSE</td>\n",
       "      <td>46</td>\n",
       "      <td>ja</td>\n",
       "      <td>{'created_at': 'Sat Apr 08 08:41:08 +0000 2017...</td>\n",
       "      <td>FALSE</td>\n",
       "      <td>FALSE</td>\n",
       "      <td>TRUE</td>\n",
       "      <td>Keigo Isashi</td>\n",
       "      <td>NaN</td>\n",
       "    </tr>\n",
       "    <tr>\n",
       "      <th>4</th>\n",
       "      <td>1.324549e+09</td>\n",
       "      <td>None</td>\n",
       "      <td>2181chrom_bot</td>\n",
       "      <td>自分の天幕</td>\n",
       "      <td>これはFE覚醒のクロム…つまり俺がツイ廃なbotらしい。よく分からんがネタ要素しかないそうだ...</td>\n",
       "      <td>http://t.co/10Swf6luED</td>\n",
       "      <td>187</td>\n",
       "      <td>68</td>\n",
       "      <td>13</td>\n",
       "      <td>Wed Apr 03 13:00:42 +0000 2013</td>\n",
       "      <td>None</td>\n",
       "      <td>None</td>\n",
       "      <td>690359</td>\n",
       "      <td>ja</td>\n",
       "      <td>{u'lang': u'ja', u'text': u'@2181lucina_bot \\u...</td>\n",
       "      <td>None</td>\n",
       "      <td>None</td>\n",
       "      <td>None</td>\n",
       "      <td>ツイ廃クロムbot</td>\n",
       "      <td>NaN</td>\n",
       "    </tr>\n",
       "    <tr>\n",
       "      <th>...</th>\n",
       "      <td>...</td>\n",
       "      <td>...</td>\n",
       "      <td>...</td>\n",
       "      <td>...</td>\n",
       "      <td>...</td>\n",
       "      <td>...</td>\n",
       "      <td>...</td>\n",
       "      <td>...</td>\n",
       "      <td>...</td>\n",
       "      <td>...</td>\n",
       "      <td>...</td>\n",
       "      <td>...</td>\n",
       "      <td>...</td>\n",
       "      <td>...</td>\n",
       "      <td>...</td>\n",
       "      <td>...</td>\n",
       "      <td>...</td>\n",
       "      <td>...</td>\n",
       "      <td>...</td>\n",
       "      <td>...</td>\n",
       "    </tr>\n",
       "    <tr>\n",
       "      <th>570</th>\n",
       "      <td>7.509990e+17</td>\n",
       "      <td>7.51E+17</td>\n",
       "      <td>yourtechbot</td>\n",
       "      <td>California, USA</td>\n",
       "      <td>Built with special algorithm to retweet about ...</td>\n",
       "      <td>https://t.co/EX2WJ8tr3Z</td>\n",
       "      <td>1551</td>\n",
       "      <td>138</td>\n",
       "      <td>3119</td>\n",
       "      <td>7/7/2016 10:23</td>\n",
       "      <td>1</td>\n",
       "      <td>FALSE</td>\n",
       "      <td>37318</td>\n",
       "      <td>en</td>\n",
       "      <td>{'favorite_count': 1, 'id': 805700033458872320...</td>\n",
       "      <td>TRUE</td>\n",
       "      <td>FALSE</td>\n",
       "      <td>TRUE</td>\n",
       "      <td>TechBot</td>\n",
       "      <td>NaN</td>\n",
       "    </tr>\n",
       "    <tr>\n",
       "      <th>571</th>\n",
       "      <td>1.022827e+07</td>\n",
       "      <td>None</td>\n",
       "      <td>YouTube</td>\n",
       "      <td>San Bruno, CA</td>\n",
       "      <td>lol watch this</td>\n",
       "      <td>https://t.co/F3fLcf5sH7</td>\n",
       "      <td>67697733</td>\n",
       "      <td>998</td>\n",
       "      <td>82023</td>\n",
       "      <td>Tue Nov 13 21:43:46 +0000 2007</td>\n",
       "      <td>None</td>\n",
       "      <td>TRUE</td>\n",
       "      <td>19364</td>\n",
       "      <td>en</td>\n",
       "      <td>{u'lang': u'en', u'text': u'The speed run to e...</td>\n",
       "      <td>None</td>\n",
       "      <td>None</td>\n",
       "      <td>None</td>\n",
       "      <td>YouTube</td>\n",
       "      <td>NaN</td>\n",
       "    </tr>\n",
       "    <tr>\n",
       "      <th>572</th>\n",
       "      <td>2.188339e+08</td>\n",
       "      <td>None</td>\n",
       "      <td>Yuki_Haruna_bot</td>\n",
       "      <td>修智館学院</td>\n",
       "      <td>PCゲームメーカー「August」のゲーム「FORTUNE ARTERIAL」に登場する悠木...</td>\n",
       "      <td>http://t.co/OXkSU7iF4D</td>\n",
       "      <td>1257</td>\n",
       "      <td>363</td>\n",
       "      <td>75</td>\n",
       "      <td>Tue Nov 23 11:35:02 +0000 2010</td>\n",
       "      <td>None</td>\n",
       "      <td>None</td>\n",
       "      <td>388672</td>\n",
       "      <td>ja</td>\n",
       "      <td>{u'lang': u'ja', u'text': u'\\u3054\\u3081\\u3093...</td>\n",
       "      <td>TRUE</td>\n",
       "      <td>None</td>\n",
       "      <td>None</td>\n",
       "      <td>悠木陽菜</td>\n",
       "      <td>NaN</td>\n",
       "    </tr>\n",
       "    <tr>\n",
       "      <th>573</th>\n",
       "      <td>1.765662e+08</td>\n",
       "      <td>None</td>\n",
       "      <td>zaynmalik</td>\n",
       "      <td>LA</td>\n",
       "      <td>pathetically aesthetic🍊https://t.co/f2zHtV0s2J</td>\n",
       "      <td>https://t.co/aoYRSS2yDT</td>\n",
       "      <td>21585872</td>\n",
       "      <td>2279</td>\n",
       "      <td>128136</td>\n",
       "      <td>Mon Aug 09 21:54:10 +0000 2010</td>\n",
       "      <td>None</td>\n",
       "      <td>TRUE</td>\n",
       "      <td>3318</td>\n",
       "      <td>en</td>\n",
       "      <td>{u'lang': u'und', u'text': u';) https://t.co/p...</td>\n",
       "      <td>None</td>\n",
       "      <td>None</td>\n",
       "      <td>None</td>\n",
       "      <td>zayn</td>\n",
       "      <td>NaN</td>\n",
       "    </tr>\n",
       "    <tr>\n",
       "      <th>574</th>\n",
       "      <td>3.119555e+09</td>\n",
       "      <td>3119554528</td>\n",
       "      <td>zaynmalik_ITBot</td>\n",
       "      <td>NaN</td>\n",
       "      <td>I'm an Intelligent Twitter Bot that tweets wit...</td>\n",
       "      <td>https://t.co/Rbo82dq00m</td>\n",
       "      <td>64</td>\n",
       "      <td>80</td>\n",
       "      <td>3</td>\n",
       "      <td>3/26/2015 19:25</td>\n",
       "      <td>0</td>\n",
       "      <td>FALSE</td>\n",
       "      <td>43438</td>\n",
       "      <td>en</td>\n",
       "      <td>{'favorite_count': 1, 'id': 639229556566700032...</td>\n",
       "      <td>TRUE</td>\n",
       "      <td>FALSE</td>\n",
       "      <td>FALSE</td>\n",
       "      <td>zaynmalik1D_ITBot</td>\n",
       "      <td>NaN</td>\n",
       "    </tr>\n",
       "  </tbody>\n",
       "</table>\n",
       "<p>575 rows × 20 columns</p>\n",
       "</div>"
      ],
      "text/plain": [
       "               id      id_str      screen_name         location  \\\n",
       "0    2.281293e+09  2281292622        __keating         brooklyn   \n",
       "1    2.344040e+09  2344040251     _callme_Dani  Los Angeles, CA   \n",
       "2    7.658713e+08   765871267   _little_britt_              NaN   \n",
       "3    4.772373e+09  4772373433            134k5              NaN   \n",
       "4    1.324549e+09        None    2181chrom_bot            自分の天幕   \n",
       "..            ...         ...              ...              ...   \n",
       "570  7.509990e+17    7.51E+17      yourtechbot  California, USA   \n",
       "571  1.022827e+07        None          YouTube    San Bruno, CA   \n",
       "572  2.188339e+08        None  Yuki_Haruna_bot            修智館学院   \n",
       "573  1.765662e+08        None        zaynmalik              LA    \n",
       "574  3.119555e+09  3119554528  zaynmalik_ITBot              NaN   \n",
       "\n",
       "                                           description  \\\n",
       "0    lgbt editor at @buzzfeed. shannon.keating@buzz...   \n",
       "1    News Curation Editor @BuzzFeedNews \\rI do a lo...   \n",
       "2    Family comes first! Also I am in love with piz...   \n",
       "3    @BuzzFeedJapan ��� @cnet_japan / DM��܋�㋁_��_��...   \n",
       "4    これはFE覚醒のクロム…つまり俺がツイ廃なbotらしい。よく分からんがネタ要素しかないそうだ...   \n",
       "..                                                 ...   \n",
       "570  Built with special algorithm to retweet about ...   \n",
       "571                                     lol watch this   \n",
       "572  PCゲームメーカー「August」のゲーム「FORTUNE ARTERIAL」に登場する悠木...   \n",
       "573     pathetically aesthetic🍊https://t.co/f2zHtV0s2J   \n",
       "574  I'm an Intelligent Twitter Bot that tweets wit...   \n",
       "\n",
       "                         url followers_count friends_count listed_count  \\\n",
       "0    https://t.co/QneJmYRyhj            4466          1295          111   \n",
       "1                        NaN             295          1016           10   \n",
       "2    https://t.co/E7DE1cJB7e         1001678          3017           14   \n",
       "3    https://t.co/Cbguzs2PjT             445           487           17   \n",
       "4     http://t.co/10Swf6luED             187            68           13   \n",
       "..                       ...             ...           ...          ...   \n",
       "570  https://t.co/EX2WJ8tr3Z            1551           138         3119   \n",
       "571  https://t.co/F3fLcf5sH7        67697733           998        82023   \n",
       "572   http://t.co/OXkSU7iF4D            1257           363           75   \n",
       "573  https://t.co/aoYRSS2yDT        21585872          2279       128136   \n",
       "574  https://t.co/Rbo82dq00m              64            80            3   \n",
       "\n",
       "                         created_at favorites_count verified  statuses_count  \\\n",
       "0    Tue Jan 07 23:26:52 +0000 2014            1579     TRUE            3036   \n",
       "1    Fri Feb 14 19:45:56 +0000 2014             300    FALSE             618   \n",
       "2                   8/18/2012 15:13           13040     TRUE            3329   \n",
       "3    Sun Jan 17 07:11:45 +0000 2016            1112    FALSE              46   \n",
       "4    Wed Apr 03 13:00:42 +0000 2013            None     None          690359   \n",
       "..                              ...             ...      ...             ...   \n",
       "570                  7/7/2016 10:23               1    FALSE           37318   \n",
       "571  Tue Nov 13 21:43:46 +0000 2007            None     TRUE           19364   \n",
       "572  Tue Nov 23 11:35:02 +0000 2010            None     None          388672   \n",
       "573  Mon Aug 09 21:54:10 +0000 2010            None     TRUE            3318   \n",
       "574                 3/26/2015 19:25               0    FALSE           43438   \n",
       "\n",
       "    lang                                             status default_profile  \\\n",
       "0     en  {'created_at': 'Tue Apr 11 15:31:51 +0000 2017...           FALSE   \n",
       "1     en  {'created_at': 'Tue Apr 11 00:56:02 +0000 2017...           FALSE   \n",
       "2     en  {'place': None, 'retweeted': False, 'favorited...            TRUE   \n",
       "3     ja  {'created_at': 'Sat Apr 08 08:41:08 +0000 2017...           FALSE   \n",
       "4     ja  {u'lang': u'ja', u'text': u'@2181lucina_bot \\u...            None   \n",
       "..   ...                                                ...             ...   \n",
       "570   en  {'favorite_count': 1, 'id': 805700033458872320...            TRUE   \n",
       "571   en  {u'lang': u'en', u'text': u'The speed run to e...            None   \n",
       "572   ja  {u'lang': u'ja', u'text': u'\\u3054\\u3081\\u3093...            TRUE   \n",
       "573   en  {u'lang': u'und', u'text': u';) https://t.co/p...            None   \n",
       "574   en  {'favorite_count': 1, 'id': 639229556566700032...            TRUE   \n",
       "\n",
       "    default_profile_image has_extended_profile               name  bot  \n",
       "0                   FALSE                FALSE    shannon keating  NaN  \n",
       "1                   FALSE                FALSE   Danielle Hopkins  NaN  \n",
       "2                   FALSE                 TRUE     Brittney Smith  NaN  \n",
       "3                   FALSE                 TRUE       Keigo Isashi  NaN  \n",
       "4                    None                 None          ツイ廃クロムbot  NaN  \n",
       "..                    ...                  ...                ...  ...  \n",
       "570                 FALSE                 TRUE            TechBot  NaN  \n",
       "571                  None                 None            YouTube  NaN  \n",
       "572                  None                 None               悠木陽菜  NaN  \n",
       "573                  None                 None               zayn  NaN  \n",
       "574                 FALSE                FALSE  zaynmalik1D_ITBot  NaN  \n",
       "\n",
       "[575 rows x 20 columns]"
      ]
     },
     "execution_count": 16,
     "metadata": {},
     "output_type": "execute_result"
    }
   ],
   "source": [
    "test = pd.read_csv('Test Data.csv')\n",
    "test"
   ]
  },
  {
   "cell_type": "markdown",
   "metadata": {
    "id": "mxqivK-YdRFW"
   },
   "source": [
    "# **Data Reading & Cleaning**"
   ]
  },
  {
   "cell_type": "code",
   "execution_count": 17,
   "metadata": {
    "id": "PWUZy1nMceU1"
   },
   "outputs": [],
   "source": [
    "bot_data = pd.read_csv('bot_data.csv')\n",
    "nonbot_data = pd.read_csv('nonbot_data.csv')"
   ]
  },
  {
   "cell_type": "code",
   "execution_count": 18,
   "metadata": {
    "id": "usYeQ-PKcekF"
   },
   "outputs": [],
   "source": [
    "train_attr = df[['followers_count', 'friends_count', 'listed_count', 'favourites_count', 'statuses_count', 'verified']]\n",
    "train_label = df[['bot']]"
   ]
  },
  {
   "cell_type": "code",
   "execution_count": 19,
   "metadata": {
    "id": "QBTbbsZBcenq"
   },
   "outputs": [],
   "source": [
    "bot_attr = bot_data[['followers_count', 'friends_count', 'listed_count', 'favourites_count', 'statuses_count', 'verified']]\n",
    "bot_label = bot_data[['bot']]\n",
    "\n",
    "nonbot_attr = nonbot_data[['followers_count', 'friends_count', 'listed_count', 'favourites_count', 'statuses_count', 'verified']]\n",
    "nonbot_label = nonbot_data[['bot']]\n",
    "\n",
    "test_attr = test[['followers_count', 'friends_count', 'listed_count', 'favorites_count', 'statuses_count', 'verified']]\n",
    "test_label = test[['bot']]"
   ]
  },
  {
   "cell_type": "markdown",
   "metadata": {
    "id": "_FVINOb57kUz"
   },
   "source": [
    "# **Exploratory Data Analysis**"
   ]
  },
  {
   "cell_type": "markdown",
   "metadata": {
    "id": "dDJYZ2JVO2UY"
   },
   "source": [
    "To identify Missingness in the data"
   ]
  },
  {
   "cell_type": "code",
   "execution_count": 20,
   "metadata": {
    "colab": {
     "base_uri": "https://localhost:8080/",
     "height": 441
    },
    "id": "QNK4pxqS4715",
    "outputId": "4fe9785a-62e7-47b8-92ce-1457132a485e"
   },
   "outputs": [
    {
     "data": {
      "image/png": "[encoded data removed]",
      "text/plain": [
       "<Figure size 720x432 with 1 Axes>"
      ]
     },
     "metadata": {
      "needs_background": "light"
     },
     "output_type": "display_data"
    }
   ],
   "source": [
    "def get_heatmap(data):\n",
    "    #This function gives heatmap of all NaN values\n",
    "    plt.figure(figsize=(10,6))\n",
    "    sns.heatmap(df.isnull(), yticklabels=False, cbar=False, cmap='viridis')\n",
    "    plt.tight_layout()\n",
    "    return plt.show()\n",
    "\n",
    "get_heatmap(training_data)"
   ]
  },
  {
   "cell_type": "code",
   "execution_count": 21,
   "metadata": {
    "colab": {
     "base_uri": "https://localhost:8080/",
     "height": 459
    },
    "id": "MKr-YnSQ474N",
    "outputId": "e1dc197d-17fe-49ac-f9fd-a22f44e3d71d"
   },
   "outputs": [
    {
     "name": "stderr",
     "output_type": "stream",
     "text": [
      "c:\\users\\hp\\pycharmprojects\\jupnot\\venv\\lib\\site-packages\\seaborn\\_decorators.py:36: FutureWarning: Pass the following variables as keyword args: x, y. From version 0.12, the only valid positional argument will be `data`, and passing other arguments without an explicit keyword will result in an error or misinterpretation.\n",
      "  warnings.warn(\n",
      "c:\\users\\hp\\pycharmprojects\\jupnot\\venv\\lib\\site-packages\\seaborn\\_decorators.py:36: FutureWarning: Pass the following variables as keyword args: x, y. From version 0.12, the only valid positional argument will be `data`, and passing other arguments without an explicit keyword will result in an error or misinterpretation.\n",
      "  warnings.warn(\n"
     ]
    },
    {
     "data": {
      "image/png": "[encoded data removed]",
      "text/plain": [
       "<Figure size 720x360 with 2 Axes>"
      ]
     },
     "metadata": {
      "needs_background": "light"
     },
     "output_type": "display_data"
    }
   ],
   "source": [
    "bots.friends_count/bots.followers_count\n",
    "\n",
    "plt.figure(figsize=(10,5))\n",
    "plt.subplot(2,1,1)\n",
    "plt.title('Bots Friends vs Followers')\n",
    "sns.regplot(bots.friends_count, bots.followers_count, color='red', label='Bots')\n",
    "plt.xlim(0, 100)\n",
    "plt.ylim(0, 100)\n",
    "plt.tight_layout()\n",
    "\n",
    "plt.subplot(2,1,2)\n",
    "plt.title('NonBots Friends vs Followers')\n",
    "sns.regplot(nonbots.friends_count, nonbots.followers_count, color='blue', label='NonBots')\n",
    "plt.xlim(0, 100)\n",
    "plt.ylim(0, 100)\n",
    "\n",
    "plt.tight_layout()\n",
    "plt.show()"
   ]
  },
  {
   "cell_type": "markdown",
   "metadata": {
    "id": "Pgg7EeZvXNjH"
   },
   "source": [
    "# Identifying imbalance in data"
   ]
  },
  {
   "cell_type": "code",
   "execution_count": 22,
   "metadata": {
    "colab": {
     "base_uri": "https://localhost:8080/"
    },
    "id": "rAHXI5ye477k",
    "outputId": "5138a00f-30b3-449b-b4ce-417362a3d924"
   },
   "outputs": [
    {
     "name": "stderr",
     "output_type": "stream",
     "text": [
      "C:\\Users\\HP\\AppData\\Local\\Temp\\ipykernel_27596\\957250149.py:1: SettingWithCopyWarning: \n",
      "A value is trying to be set on a copy of a slice from a DataFrame.\n",
      "Try using .loc[row_indexer,col_indexer] = value instead\n",
      "\n",
      "See the caveats in the documentation: https://pandas.pydata.org/pandas-docs/stable/user_guide/indexing.html#returning-a-view-versus-a-copy\n",
      "  bots['friends_by_followers'] = bots.friends_count/bots.followers_count\n",
      "C:\\Users\\HP\\AppData\\Local\\Temp\\ipykernel_27596\\957250149.py:4: SettingWithCopyWarning: \n",
      "A value is trying to be set on a copy of a slice from a DataFrame.\n",
      "Try using .loc[row_indexer,col_indexer] = value instead\n",
      "\n",
      "See the caveats in the documentation: https://pandas.pydata.org/pandas-docs/stable/user_guide/indexing.html#returning-a-view-versus-a-copy\n",
      "  nonbots['friends_by_followers'] = nonbots.friends_count/nonbots.followers_count\n"
     ]
    },
    {
     "data": {
      "text/plain": [
       "(952, 21)"
      ]
     },
     "execution_count": 22,
     "metadata": {},
     "output_type": "execute_result"
    }
   ],
   "source": [
    "bots['friends_by_followers'] = bots.friends_count/bots.followers_count\n",
    "bots[bots.friends_by_followers<1].shape\n",
    "\n",
    "nonbots['friends_by_followers'] = nonbots.friends_count/nonbots.followers_count\n",
    "nonbots[nonbots.friends_by_followers<1].shape"
   ]
  },
  {
   "cell_type": "code",
   "execution_count": 23,
   "metadata": {
    "colab": {
     "base_uri": "https://localhost:8080/",
     "height": 341
    },
    "id": "DVwN29QBEoVx",
    "outputId": "387694d2-5ed9-492d-a2f2-425054242471"
   },
   "outputs": [
    {
     "name": "stdout",
     "output_type": "stream",
     "text": [
      "(504, 21)\n"
     ]
    },
    {
     "data": {
      "image/png": "[encoded data removed]",
      "text/plain": [
       "<Figure size 720x360 with 1 Axes>"
      ]
     },
     "metadata": {
      "needs_background": "light"
     },
     "output_type": "display_data"
    }
   ],
   "source": [
    "plt.figure(figsize=(10,5))\n",
    "plt.plot(bots.listed_count, color='red', label='Bots')\n",
    "plt.plot(nonbots.listed_count, color='blue', label='NonBots')\n",
    "plt.legend(loc='upper left')\n",
    "plt.ylim(10000,20000)\n",
    "print(bots[(bots.listed_count<5)].shape)"
   ]
  },
  {
   "cell_type": "code",
   "execution_count": 24,
   "metadata": {
    "id": "EqoZBGQYErNo"
   },
   "outputs": [],
   "source": [
    "bots_listed_count_df = bots[bots.listed_count<16000]\n",
    "nonbots_listed_count_df = nonbots[nonbots.listed_count<16000]\n",
    "\n",
    "bots_verified_df = bots_listed_count_df[bots_listed_count_df.verified==False]\n",
    "bots_screenname_has_bot_df_ = bots_verified_df[(bots_verified_df.screen_name.str.contains(\"bot\", case=False)==True)].shape"
   ]
  },
  {
   "cell_type": "code",
   "execution_count": 25,
   "metadata": {
    "colab": {
     "base_uri": "https://localhost:8080/",
     "height": 457
    },
    "id": "6Wmv7OCQEr0j",
    "outputId": "abe23cb3-89f2-49e1-c612-898fb122dbb8"
   },
   "outputs": [
    {
     "data": {
      "text/plain": [
       "<matplotlib.legend.Legend at 0x1da9696a500>"
      ]
     },
     "execution_count": 25,
     "metadata": {},
     "output_type": "execute_result"
    },
    {
     "data": {
      "image/png": "[encoded data removed]",
      "text/plain": [
       "<Figure size 864x504 with 2 Axes>"
      ]
     },
     "metadata": {
      "needs_background": "light"
     },
     "output_type": "display_data"
    }
   ],
   "source": [
    "plt.figure(figsize=(12,7))\n",
    "\n",
    "plt.subplot(2,1,1)\n",
    "plt.plot(bots_listed_count_df.friends_count, color='red', label='Bots Friends')\n",
    "plt.plot(nonbots_listed_count_df.friends_count, color='blue', label='NonBots Friends')\n",
    "plt.legend(loc='upper left')\n",
    "\n",
    "plt.subplot(2,1,2)\n",
    "plt.plot(bots_listed_count_df.followers_count, color='red', label='Bots Followers')\n",
    "plt.plot(nonbots_listed_count_df.followers_count, color='blue', label='NonBots Followers')\n",
    "plt.legend(loc='upper left')"
   ]
  },
  {
   "cell_type": "code",
   "execution_count": 26,
   "metadata": {
    "colab": {
     "base_uri": "https://localhost:8080/"
    },
    "id": "y6QxNgbOEsKb",
    "outputId": "c418dac6-929e-4fa9-cab6-1a33ecda529e"
   },
   "outputs": [
    {
     "name": "stderr",
     "output_type": "stream",
     "text": [
      "C:\\Users\\HP\\AppData\\Local\\Temp\\ipykernel_27596\\2128155473.py:4: SettingWithCopyWarning: \n",
      "A value is trying to be set on a copy of a slice from a DataFrame.\n",
      "Try using .loc[row_indexer,col_indexer] = value instead\n",
      "\n",
      "See the caveats in the documentation: https://pandas.pydata.org/pandas-docs/stable/user_guide/indexing.html#returning-a-view-versus-a-copy\n",
      "  bots['screen_name_binary'] = (bots.screen_name.str.contains(\"bot\", case=False)==True)\n",
      "C:\\Users\\HP\\AppData\\Local\\Temp\\ipykernel_27596\\2128155473.py:5: SettingWithCopyWarning: \n",
      "A value is trying to be set on a copy of a slice from a DataFrame.\n",
      "Try using .loc[row_indexer,col_indexer] = value instead\n",
      "\n",
      "See the caveats in the documentation: https://pandas.pydata.org/pandas-docs/stable/user_guide/indexing.html#returning-a-view-versus-a-copy\n",
      "  bots['location_binary'] = (bots.location.isnull())\n",
      "C:\\Users\\HP\\AppData\\Local\\Temp\\ipykernel_27596\\2128155473.py:6: SettingWithCopyWarning: \n",
      "A value is trying to be set on a copy of a slice from a DataFrame.\n",
      "Try using .loc[row_indexer,col_indexer] = value instead\n",
      "\n",
      "See the caveats in the documentation: https://pandas.pydata.org/pandas-docs/stable/user_guide/indexing.html#returning-a-view-versus-a-copy\n",
      "  bots['verified_binary'] = (bots.verified==False)\n"
     ]
    },
    {
     "data": {
      "text/plain": [
       "(1321, 24)"
      ]
     },
     "execution_count": 26,
     "metadata": {},
     "output_type": "execute_result"
    }
   ],
   "source": [
    "#bots[bots.listedcount>10000]\n",
    "condition = (bots.screen_name.str.contains(\"bot\", case=False)==True)|(bots.description.str.contains(\"bot\", case=False)==True)|(bots.location.isnull())|(bots.verified==False)\n",
    "\n",
    "bots['screen_name_binary'] = (bots.screen_name.str.contains(\"bot\", case=False)==True)\n",
    "bots['location_binary'] = (bots.location.isnull())\n",
    "bots['verified_binary'] = (bots.verified==False)\n",
    "bots.shape"
   ]
  },
  {
   "cell_type": "code",
   "execution_count": 27,
   "metadata": {
    "colab": {
     "base_uri": "https://localhost:8080/"
    },
    "id": "Y_5RGUt9FFds",
    "outputId": "480e41df-8963-4845-8020-2ac254592e60"
   },
   "outputs": [
    {
     "name": "stderr",
     "output_type": "stream",
     "text": [
      "C:\\Users\\HP\\AppData\\Local\\Temp\\ipykernel_27596\\2891353468.py:3: SettingWithCopyWarning: \n",
      "A value is trying to be set on a copy of a slice from a DataFrame.\n",
      "Try using .loc[row_indexer,col_indexer] = value instead\n",
      "\n",
      "See the caveats in the documentation: https://pandas.pydata.org/pandas-docs/stable/user_guide/indexing.html#returning-a-view-versus-a-copy\n",
      "  nonbots['screen_name_binary'] = (nonbots.screen_name.str.contains(\"bot\", case=False)==False)\n",
      "C:\\Users\\HP\\AppData\\Local\\Temp\\ipykernel_27596\\2891353468.py:4: SettingWithCopyWarning: \n",
      "A value is trying to be set on a copy of a slice from a DataFrame.\n",
      "Try using .loc[row_indexer,col_indexer] = value instead\n",
      "\n",
      "See the caveats in the documentation: https://pandas.pydata.org/pandas-docs/stable/user_guide/indexing.html#returning-a-view-versus-a-copy\n",
      "  nonbots['location_binary'] = (nonbots.location.isnull()==False)\n",
      "C:\\Users\\HP\\AppData\\Local\\Temp\\ipykernel_27596\\2891353468.py:5: SettingWithCopyWarning: \n",
      "A value is trying to be set on a copy of a slice from a DataFrame.\n",
      "Try using .loc[row_indexer,col_indexer] = value instead\n",
      "\n",
      "See the caveats in the documentation: https://pandas.pydata.org/pandas-docs/stable/user_guide/indexing.html#returning-a-view-versus-a-copy\n",
      "  nonbots['verified_binary'] = (nonbots.verified==True)\n"
     ]
    },
    {
     "data": {
      "text/plain": [
       "(1476, 24)"
      ]
     },
     "execution_count": 27,
     "metadata": {},
     "output_type": "execute_result"
    }
   ],
   "source": [
    "condition = (nonbots.screen_name.str.contains(\"bot\", case=False)==False)| (nonbots.description.str.contains(\"bot\", case=False)==False) |(nonbots.location.isnull()==False)|(nonbots.verified==True)\n",
    "\n",
    "nonbots['screen_name_binary'] = (nonbots.screen_name.str.contains(\"bot\", case=False)==False)\n",
    "nonbots['location_binary'] = (nonbots.location.isnull()==False)\n",
    "nonbots['verified_binary'] = (nonbots.verified==True)\n",
    "\n",
    "nonbots.shape\n"
   ]
  },
  {
   "cell_type": "code",
   "execution_count": 28,
   "metadata": {
    "colab": {
     "base_uri": "https://localhost:8080/"
    },
    "id": "HM-0AHN-FFrs",
    "outputId": "947f6cc6-9dbc-42f3-aa79-1367eb6029ab"
   },
   "outputs": [
    {
     "data": {
      "text/plain": [
       "(2797, 24)"
      ]
     },
     "execution_count": 28,
     "metadata": {},
     "output_type": "execute_result"
    }
   ],
   "source": [
    "df = pd.concat([bots, nonbots])\n",
    "df.shape"
   ]
  },
  {
   "cell_type": "markdown",
   "metadata": {
    "id": "uUysqqtvYGlj"
   },
   "source": [
    "# Feature Independence using Spearman correlation"
   ]
  },
  {
   "cell_type": "code",
   "execution_count": 29,
   "metadata": {
    "colab": {
     "base_uri": "https://localhost:8080/",
     "height": 552
    },
    "id": "Pw2JyEgXFF9N",
    "outputId": "22b13977-4271-40b9-ff48-8ee0fbd85304"
   },
   "outputs": [
    {
     "data": {
      "text/html": [
       "<div>\n",
       "<style scoped>\n",
       "    .dataframe tbody tr th:only-of-type {\n",
       "        vertical-align: middle;\n",
       "    }\n",
       "\n",
       "    .dataframe tbody tr th {\n",
       "        vertical-align: top;\n",
       "    }\n",
       "\n",
       "    .dataframe thead th {\n",
       "        text-align: right;\n",
       "    }\n",
       "</style>\n",
       "<table border=\"1\" class=\"dataframe\">\n",
       "  <thead>\n",
       "    <tr style=\"text-align: right;\">\n",
       "      <th></th>\n",
       "      <th>id</th>\n",
       "      <th>followers_count</th>\n",
       "      <th>friends_count</th>\n",
       "      <th>listed_count</th>\n",
       "      <th>favourites_count</th>\n",
       "      <th>verified</th>\n",
       "      <th>statuses_count</th>\n",
       "      <th>default_profile</th>\n",
       "      <th>default_profile_image</th>\n",
       "      <th>bot</th>\n",
       "      <th>friends_by_followers</th>\n",
       "      <th>screen_name_binary</th>\n",
       "      <th>location_binary</th>\n",
       "      <th>verified_binary</th>\n",
       "    </tr>\n",
       "  </thead>\n",
       "  <tbody>\n",
       "    <tr>\n",
       "      <th>id</th>\n",
       "      <td>1.000000</td>\n",
       "      <td>-0.672925</td>\n",
       "      <td>-0.402346</td>\n",
       "      <td>-0.615005</td>\n",
       "      <td>-0.439430</td>\n",
       "      <td>-0.611899</td>\n",
       "      <td>-0.451945</td>\n",
       "      <td>0.522990</td>\n",
       "      <td>0.166601</td>\n",
       "      <td>0.652131</td>\n",
       "      <td>0.270435</td>\n",
       "      <td>-0.576100</td>\n",
       "      <td>-0.228328</td>\n",
       "      <td>0.150100</td>\n",
       "    </tr>\n",
       "    <tr>\n",
       "      <th>followers_count</th>\n",
       "      <td>-0.672925</td>\n",
       "      <td>1.000000</td>\n",
       "      <td>0.375522</td>\n",
       "      <td>0.896126</td>\n",
       "      <td>0.457363</td>\n",
       "      <td>0.709732</td>\n",
       "      <td>0.649117</td>\n",
       "      <td>-0.496899</td>\n",
       "      <td>-0.293838</td>\n",
       "      <td>-0.468430</td>\n",
       "      <td>-0.577157</td>\n",
       "      <td>0.458213</td>\n",
       "      <td>0.189675</td>\n",
       "      <td>0.130717</td>\n",
       "    </tr>\n",
       "    <tr>\n",
       "      <th>friends_count</th>\n",
       "      <td>-0.402346</td>\n",
       "      <td>0.375522</td>\n",
       "      <td>1.000000</td>\n",
       "      <td>0.204403</td>\n",
       "      <td>0.641529</td>\n",
       "      <td>0.356452</td>\n",
       "      <td>0.111118</td>\n",
       "      <td>-0.296358</td>\n",
       "      <td>-0.097607</td>\n",
       "      <td>-0.483105</td>\n",
       "      <td>0.427638</td>\n",
       "      <td>0.342145</td>\n",
       "      <td>0.082692</td>\n",
       "      <td>-0.210592</td>\n",
       "    </tr>\n",
       "    <tr>\n",
       "      <th>listed_count</th>\n",
       "      <td>-0.615005</td>\n",
       "      <td>0.896126</td>\n",
       "      <td>0.204403</td>\n",
       "      <td>1.000000</td>\n",
       "      <td>0.349059</td>\n",
       "      <td>0.694340</td>\n",
       "      <td>0.684976</td>\n",
       "      <td>-0.447376</td>\n",
       "      <td>-0.269035</td>\n",
       "      <td>-0.318445</td>\n",
       "      <td>-0.681034</td>\n",
       "      <td>0.338698</td>\n",
       "      <td>0.188797</td>\n",
       "      <td>0.281360</td>\n",
       "    </tr>\n",
       "    <tr>\n",
       "      <th>favourites_count</th>\n",
       "      <td>-0.439430</td>\n",
       "      <td>0.457363</td>\n",
       "      <td>0.641529</td>\n",
       "      <td>0.349059</td>\n",
       "      <td>1.000000</td>\n",
       "      <td>0.394227</td>\n",
       "      <td>0.295108</td>\n",
       "      <td>-0.348043</td>\n",
       "      <td>-0.226956</td>\n",
       "      <td>-0.526228</td>\n",
       "      <td>0.104797</td>\n",
       "      <td>0.408864</td>\n",
       "      <td>0.120941</td>\n",
       "      <td>-0.220894</td>\n",
       "    </tr>\n",
       "    <tr>\n",
       "      <th>verified</th>\n",
       "      <td>-0.611899</td>\n",
       "      <td>0.709732</td>\n",
       "      <td>0.356452</td>\n",
       "      <td>0.694340</td>\n",
       "      <td>0.394227</td>\n",
       "      <td>1.000000</td>\n",
       "      <td>0.333278</td>\n",
       "      <td>-0.404650</td>\n",
       "      <td>-0.132298</td>\n",
       "      <td>-0.508555</td>\n",
       "      <td>-0.419815</td>\n",
       "      <td>0.434177</td>\n",
       "      <td>0.191922</td>\n",
       "      <td>0.346505</td>\n",
       "    </tr>\n",
       "    <tr>\n",
       "      <th>statuses_count</th>\n",
       "      <td>-0.451945</td>\n",
       "      <td>0.649117</td>\n",
       "      <td>0.111118</td>\n",
       "      <td>0.684976</td>\n",
       "      <td>0.295108</td>\n",
       "      <td>0.333278</td>\n",
       "      <td>1.000000</td>\n",
       "      <td>-0.375918</td>\n",
       "      <td>-0.289999</td>\n",
       "      <td>-0.089018</td>\n",
       "      <td>-0.533971</td>\n",
       "      <td>0.162213</td>\n",
       "      <td>0.105333</td>\n",
       "      <td>0.207384</td>\n",
       "    </tr>\n",
       "    <tr>\n",
       "      <th>default_profile</th>\n",
       "      <td>0.522990</td>\n",
       "      <td>-0.496899</td>\n",
       "      <td>-0.296358</td>\n",
       "      <td>-0.447376</td>\n",
       "      <td>-0.348043</td>\n",
       "      <td>-0.404650</td>\n",
       "      <td>-0.375918</td>\n",
       "      <td>1.000000</td>\n",
       "      <td>0.246979</td>\n",
       "      <td>0.407748</td>\n",
       "      <td>0.197929</td>\n",
       "      <td>-0.377572</td>\n",
       "      <td>-0.138378</td>\n",
       "      <td>0.072351</td>\n",
       "    </tr>\n",
       "    <tr>\n",
       "      <th>default_profile_image</th>\n",
       "      <td>0.166601</td>\n",
       "      <td>-0.293838</td>\n",
       "      <td>-0.097607</td>\n",
       "      <td>-0.269035</td>\n",
       "      <td>-0.226956</td>\n",
       "      <td>-0.132298</td>\n",
       "      <td>-0.289999</td>\n",
       "      <td>0.246979</td>\n",
       "      <td>1.000000</td>\n",
       "      <td>0.139669</td>\n",
       "      <td>0.190986</td>\n",
       "      <td>-0.166388</td>\n",
       "      <td>0.000596</td>\n",
       "      <td>0.033021</td>\n",
       "    </tr>\n",
       "    <tr>\n",
       "      <th>bot</th>\n",
       "      <td>0.652131</td>\n",
       "      <td>-0.468430</td>\n",
       "      <td>-0.483105</td>\n",
       "      <td>-0.318445</td>\n",
       "      <td>-0.526228</td>\n",
       "      <td>-0.508555</td>\n",
       "      <td>-0.089018</td>\n",
       "      <td>0.407748</td>\n",
       "      <td>0.139669</td>\n",
       "      <td>1.000000</td>\n",
       "      <td>-0.044056</td>\n",
       "      <td>-0.843429</td>\n",
       "      <td>-0.266342</td>\n",
       "      <td>0.606771</td>\n",
       "    </tr>\n",
       "    <tr>\n",
       "      <th>friends_by_followers</th>\n",
       "      <td>0.270435</td>\n",
       "      <td>-0.577157</td>\n",
       "      <td>0.427638</td>\n",
       "      <td>-0.681034</td>\n",
       "      <td>0.104797</td>\n",
       "      <td>-0.419815</td>\n",
       "      <td>-0.533971</td>\n",
       "      <td>0.197929</td>\n",
       "      <td>0.190986</td>\n",
       "      <td>-0.044056</td>\n",
       "      <td>1.000000</td>\n",
       "      <td>-0.052662</td>\n",
       "      <td>-0.130838</td>\n",
       "      <td>-0.434367</td>\n",
       "    </tr>\n",
       "    <tr>\n",
       "      <th>screen_name_binary</th>\n",
       "      <td>-0.576100</td>\n",
       "      <td>0.458213</td>\n",
       "      <td>0.342145</td>\n",
       "      <td>0.338698</td>\n",
       "      <td>0.408864</td>\n",
       "      <td>0.434177</td>\n",
       "      <td>0.162213</td>\n",
       "      <td>-0.377572</td>\n",
       "      <td>-0.166388</td>\n",
       "      <td>-0.843429</td>\n",
       "      <td>-0.052662</td>\n",
       "      <td>1.000000</td>\n",
       "      <td>0.247107</td>\n",
       "      <td>-0.502677</td>\n",
       "    </tr>\n",
       "    <tr>\n",
       "      <th>location_binary</th>\n",
       "      <td>-0.228328</td>\n",
       "      <td>0.189675</td>\n",
       "      <td>0.082692</td>\n",
       "      <td>0.188797</td>\n",
       "      <td>0.120941</td>\n",
       "      <td>0.191922</td>\n",
       "      <td>0.105333</td>\n",
       "      <td>-0.138378</td>\n",
       "      <td>0.000596</td>\n",
       "      <td>-0.266342</td>\n",
       "      <td>-0.130838</td>\n",
       "      <td>0.247107</td>\n",
       "      <td>1.000000</td>\n",
       "      <td>-0.099474</td>\n",
       "    </tr>\n",
       "    <tr>\n",
       "      <th>verified_binary</th>\n",
       "      <td>0.150100</td>\n",
       "      <td>0.130717</td>\n",
       "      <td>-0.210592</td>\n",
       "      <td>0.281360</td>\n",
       "      <td>-0.220894</td>\n",
       "      <td>0.346505</td>\n",
       "      <td>0.207384</td>\n",
       "      <td>0.072351</td>\n",
       "      <td>0.033021</td>\n",
       "      <td>0.606771</td>\n",
       "      <td>-0.434367</td>\n",
       "      <td>-0.502677</td>\n",
       "      <td>-0.099474</td>\n",
       "      <td>1.000000</td>\n",
       "    </tr>\n",
       "  </tbody>\n",
       "</table>\n",
       "</div>"
      ],
      "text/plain": [
       "                             id  followers_count  friends_count  listed_count  \\\n",
       "id                     1.000000        -0.672925      -0.402346     -0.615005   \n",
       "followers_count       -0.672925         1.000000       0.375522      0.896126   \n",
       "friends_count         -0.402346         0.375522       1.000000      0.204403   \n",
       "listed_count          -0.615005         0.896126       0.204403      1.000000   \n",
       "favourites_count      -0.439430         0.457363       0.641529      0.349059   \n",
       "verified              -0.611899         0.709732       0.356452      0.694340   \n",
       "statuses_count        -0.451945         0.649117       0.111118      0.684976   \n",
       "default_profile        0.522990        -0.496899      -0.296358     -0.447376   \n",
       "default_profile_image  0.166601        -0.293838      -0.097607     -0.269035   \n",
       "bot                    0.652131        -0.468430      -0.483105     -0.318445   \n",
       "friends_by_followers   0.270435        -0.577157       0.427638     -0.681034   \n",
       "screen_name_binary    -0.576100         0.458213       0.342145      0.338698   \n",
       "location_binary       -0.228328         0.189675       0.082692      0.188797   \n",
       "verified_binary        0.150100         0.130717      -0.210592      0.281360   \n",
       "\n",
       "                       favourites_count  verified  statuses_count  \\\n",
       "id                            -0.439430 -0.611899       -0.451945   \n",
       "followers_count                0.457363  0.709732        0.649117   \n",
       "friends_count                  0.641529  0.356452        0.111118   \n",
       "listed_count                   0.349059  0.694340        0.684976   \n",
       "favourites_count               1.000000  0.394227        0.295108   \n",
       "verified                       0.394227  1.000000        0.333278   \n",
       "statuses_count                 0.295108  0.333278        1.000000   \n",
       "default_profile               -0.348043 -0.404650       -0.375918   \n",
       "default_profile_image         -0.226956 -0.132298       -0.289999   \n",
       "bot                           -0.526228 -0.508555       -0.089018   \n",
       "friends_by_followers           0.104797 -0.419815       -0.533971   \n",
       "screen_name_binary             0.408864  0.434177        0.162213   \n",
       "location_binary                0.120941  0.191922        0.105333   \n",
       "verified_binary               -0.220894  0.346505        0.207384   \n",
       "\n",
       "                       default_profile  default_profile_image       bot  \\\n",
       "id                            0.522990               0.166601  0.652131   \n",
       "followers_count              -0.496899              -0.293838 -0.468430   \n",
       "friends_count                -0.296358              -0.097607 -0.483105   \n",
       "listed_count                 -0.447376              -0.269035 -0.318445   \n",
       "favourites_count             -0.348043              -0.226956 -0.526228   \n",
       "verified                     -0.404650              -0.132298 -0.508555   \n",
       "statuses_count               -0.375918              -0.289999 -0.089018   \n",
       "default_profile               1.000000               0.246979  0.407748   \n",
       "default_profile_image         0.246979               1.000000  0.139669   \n",
       "bot                           0.407748               0.139669  1.000000   \n",
       "friends_by_followers          0.197929               0.190986 -0.044056   \n",
       "screen_name_binary           -0.377572              -0.166388 -0.843429   \n",
       "location_binary              -0.138378               0.000596 -0.266342   \n",
       "verified_binary               0.072351               0.033021  0.606771   \n",
       "\n",
       "                       friends_by_followers  screen_name_binary  \\\n",
       "id                                 0.270435           -0.576100   \n",
       "followers_count                   -0.577157            0.458213   \n",
       "friends_count                      0.427638            0.342145   \n",
       "listed_count                      -0.681034            0.338698   \n",
       "favourites_count                   0.104797            0.408864   \n",
       "verified                          -0.419815            0.434177   \n",
       "statuses_count                    -0.533971            0.162213   \n",
       "default_profile                    0.197929           -0.377572   \n",
       "default_profile_image              0.190986           -0.166388   \n",
       "bot                               -0.044056           -0.843429   \n",
       "friends_by_followers               1.000000           -0.052662   \n",
       "screen_name_binary                -0.052662            1.000000   \n",
       "location_binary                   -0.130838            0.247107   \n",
       "verified_binary                   -0.434367           -0.502677   \n",
       "\n",
       "                       location_binary  verified_binary  \n",
       "id                           -0.228328         0.150100  \n",
       "followers_count               0.189675         0.130717  \n",
       "friends_count                 0.082692        -0.210592  \n",
       "listed_count                  0.188797         0.281360  \n",
       "favourites_count              0.120941        -0.220894  \n",
       "verified                      0.191922         0.346505  \n",
       "statuses_count                0.105333         0.207384  \n",
       "default_profile              -0.138378         0.072351  \n",
       "default_profile_image         0.000596         0.033021  \n",
       "bot                          -0.266342         0.606771  \n",
       "friends_by_followers         -0.130838        -0.434367  \n",
       "screen_name_binary            0.247107        -0.502677  \n",
       "location_binary               1.000000        -0.099474  \n",
       "verified_binary              -0.099474         1.000000  "
      ]
     },
     "execution_count": 29,
     "metadata": {},
     "output_type": "execute_result"
    }
   ],
   "source": [
    "df.corr(method='spearman')"
   ]
  },
  {
   "cell_type": "code",
   "execution_count": 30,
   "metadata": {
    "colab": {
     "base_uri": "https://localhost:8080/",
     "height": 297
    },
    "id": "DMDLm7AiFcyu",
    "outputId": "ceb18b03-b7d9-431d-db6b-8458a8e307d2"
   },
   "outputs": [
    {
     "data": {
      "image/png": "[encoded data removed]",
      "text/plain": [
       "<Figure size 576x288 with 2 Axes>"
      ]
     },
     "metadata": {
      "needs_background": "light"
     },
     "output_type": "display_data"
    }
   ],
   "source": [
    "plt.figure(figsize=(8,4))\n",
    "sns.heatmap(df.corr(method='spearman'), cmap='coolwarm', annot=True)\n",
    "plt.tight_layout()\n",
    "plt.show()"
   ]
  },
  {
   "cell_type": "markdown",
   "metadata": {
    "id": "0cnxQQSyXITS"
   },
   "source": [
    "There is no correlation between id, statuses_count, default_profile, default_profile_image and target variable.\n",
    "There is strong correlation between verified, listed_count, friends_count, followers_count and target variable.\n",
    "We cannot perform correlation for categorical attributes. So we will take screen_name, name, description, status into feature engineering. While use verified, listed_count for feature extraction."
   ]
  },
  {
   "cell_type": "markdown",
   "metadata": {
    "id": "TZpLBEyQW6qP"
   },
   "source": [
    "# **Feature Engineering and Extraction**"
   ]
  },
  {
   "cell_type": "code",
   "execution_count": 31,
   "metadata": {
    "id": "Oi19XBNJFdAW"
   },
   "outputs": [],
   "source": [
    "bag_of_words_bot = r'bot|b0t|cannabis|tweet me|mishear|follow me|updates every|gorilla|yes_ofc|forget' \\\n",
    "                    r'expos|kill|clit|bbb|butt|fuck|XXX|sex|truthe|fake|anony|free|virus|funky|RNA|kuck|jargon' \\\n",
    "                    r'nerd|swag|jack|bang|bonsai|chick|prison|paper|pokem|xx|freak|ffd|dunia|clone|genie|bbb' \\\n",
    "                    r'ffd|onlyman|emoji|joke|troll|droop|free|every|wow|cheese|yeah|bio|magic|wizard|face'\n",
    "            \n",
    "training_data['screen_name_binary'] = training_data.screen_name.str.contains(bag_of_words_bot, case=False, na=False)\n",
    "training_data['name_binary'] = training_data.name.str.contains(bag_of_words_bot, case=False, na=False)\n",
    "training_data['description_binary'] = training_data.description.str.contains(bag_of_words_bot, case=False, na=False)\n",
    "training_data['status_binary'] = training_data.status.str.contains(bag_of_words_bot, case=False, na=False)"
   ]
  },
  {
   "cell_type": "code",
   "execution_count": 32,
   "metadata": {
    "id": "IRtg2t2hFdDJ"
   },
   "outputs": [],
   "source": [
    "training_data['listed_count_binary'] = (training_data.listed_count>20000)==False\n",
    "features = ['screen_name_binary', 'name_binary', 'description_binary', 'status_binary', 'verified', 'followers_count', 'friends_count', 'statuses_count', 'listed_count_binary', 'bot']"
   ]
  },
  {
   "cell_type": "markdown",
   "metadata": {
    "id": "NEaywoECXRwj"
   },
   "source": [
    "# **Random Forest Classifier Implementation**"
   ]
  },
  {
   "cell_type": "code",
   "execution_count": 33,
   "metadata": {
    "id": "KPsIXuR6LbMy"
   },
   "outputs": [],
   "source": [
    "#You'll want sklearn's built-in train/test split function,\n",
    "\n",
    "from sklearn.model_selection import train_test_split"
   ]
  },
  {
   "cell_type": "code",
   "execution_count": 34,
   "metadata": {},
   "outputs": [],
   "source": [
    "from sklearn.ensemble import RandomForestClassifier\n",
    "from sklearn.ensemble import RandomForestClassifier as rf"
   ]
  },
  {
   "cell_type": "code",
   "execution_count": 35,
   "metadata": {},
   "outputs": [],
   "source": [
    "def Performance(actual_value , predicted_value):\n",
    "    accuracy = accuracy_score(actual_value , predicted_value) * 100\n",
    "    precision = precision_score(actual_value , predicted_value) * 100\n",
    "    recall = recall_score(actual_value , predicted_value) * 100\n",
    "    f1 = f1_score(actual_value , predicted_value, average='weighted')\n",
    "    print('Accuracy is {:.4f}%\\n Precision is {:.4f}%\\n Recall is {:.4f}%\\nF1 Score is {:.4f}\\n'.format(accuracy, precision, recall, f1))"
   ]
  },
  {
   "cell_type": "code",
   "execution_count": 36,
   "metadata": {},
   "outputs": [],
   "source": [
    "#To check Performances\n",
    "from sklearn.metrics import accuracy_score\n",
    "from sklearn.metrics import precision_score\n",
    "from sklearn.metrics import recall_score\n",
    "from sklearn.metrics import f1_score"
   ]
  },
  {
   "cell_type": "code",
   "execution_count": 37,
   "metadata": {
    "colab": {
     "base_uri": "https://localhost:8080/"
    },
    "id": "u2QEINaeLba-",
    "outputId": "9c250f48-bf27-47f1-bc94-e853624abed6"
   },
   "outputs": [
    {
     "name": "stdout",
     "output_type": "stream",
     "text": [
      "Trainig Accuracy: 0.87685\n",
      "Test Accuracy: 0.86071\n"
     ]
    }
   ],
   "source": [
    "\n",
    "X = training_data[features].iloc[:,:-1]\n",
    "y = training_data[features].iloc[:,-1]\n",
    "\n",
    "rf = RandomForestClassifier(criterion='entropy', min_samples_leaf=100, min_samples_split=20)\n",
    "\n",
    "#Splitting these datasets further into training and test datasets.\n",
    "#This prevents contamination, i.e. the model learning from the labels\n",
    "#it's later going to try to predict. \n",
    "X_train, X_test, y_train, y_test = train_test_split(X, y, test_size=0.3, random_state=101)\n",
    "\n",
    "\n",
    "#Create a classification model with set parameters, and fit it to the\n",
    "#training data.\n",
    "rf = rf.fit(X_train, y_train)\n",
    "\n",
    "#Test your model's accuracy by making a prediction on the test set\n",
    "#that we've separated, and print that accuracy score\n",
    "y_pred_train = rf.predict(X_train)\n",
    "y_pred_test = rf.predict(X_test)\n",
    "\n",
    "print(\"Trainig Accuracy: %.5f\" %accuracy_score(y_train, y_pred_train))\n",
    "print(\"Test Accuracy: %.5f\" %accuracy_score(y_test, y_pred_test))"
   ]
  },
  {
   "cell_type": "code",
   "execution_count": 38,
   "metadata": {
    "colab": {
     "base_uri": "https://localhost:8080/",
     "height": 313
    },
    "id": "arXpDQgcLbdS",
    "outputId": "d170a3ec-2e73-46ed-ac92-1b634ff80804"
   },
   "outputs": [
    {
     "data": {
      "text/plain": [
       "<matplotlib.legend.Legend at 0x1da967cc580>"
      ]
     },
     "execution_count": 38,
     "metadata": {},
     "output_type": "execute_result"
    },
    {
     "data": {
      "image/png": "[encoded data removed]",
      "text/plain": [
       "<Figure size 432x288 with 1 Axes>"
      ]
     },
     "metadata": {},
     "output_type": "display_data"
    }
   ],
   "source": [
    "#as well as metrics for checking your model's accuracy\n",
    "from sklearn.metrics import accuracy_score, roc_curve, auc\n",
    "sns.set_style(\"whitegrid\", {'axes.grid' : False})\n",
    "\n",
    "scores_train = rf.predict_proba(X_train)\n",
    "scores_test = rf.predict_proba(X_test)\n",
    "\n",
    "y_scores_train = []\n",
    "y_scores_test = []\n",
    "for i in range(len(scores_train)):\n",
    "    y_scores_train.append(scores_train[i][1])\n",
    "\n",
    "for i in range(len(scores_test)):\n",
    "    y_scores_test.append(scores_test[i][1])\n",
    "    \n",
    "fpr_rf_train, tpr_rf_train, _ = roc_curve(y_train, y_scores_train, pos_label=1)\n",
    "fpr_rf_test, tpr_rf_test, _ = roc_curve(y_test, y_scores_test, pos_label=1)\n",
    "\n",
    "plt.plot(fpr_rf_train, tpr_rf_train, color='darkblue', label='Train AUC: %5f' %auc(fpr_rf_train, tpr_rf_train))\n",
    "plt.plot(fpr_rf_test, tpr_rf_test, color='red', ls='--', label='Test AUC: %5f' %auc(fpr_rf_test, tpr_rf_test))\n",
    "plt.title(\"Random ForestROC Curve\")\n",
    "plt.xlabel(\"False Positive Rate (FPR)\")\n",
    "plt.ylabel(\"True Positive Rate (TPR)\")\n",
    "plt.legend(loc='lower right')"
   ]
  },
  {
   "cell_type": "markdown",
   "metadata": {
    "id": "6fLoiXI69IYg"
   },
   "source": [
    "# **Spam Detection of Bots**"
   ]
  },
  {
   "cell_type": "code",
   "execution_count": 39,
   "metadata": {
    "id": "ymbKvBjFLbgo"
   },
   "outputs": [],
   "source": [
    "data_df = bots[pd.notnull(bots['followers_count'])]"
   ]
  },
  {
   "cell_type": "code",
   "execution_count": 40,
   "metadata": {
    "id": "NAwv5Zq38Fta"
   },
   "outputs": [],
   "source": [
    "user_followers = list(data_df['followers_count'])\n",
    "user_friends = list(data_df['friends_count'])"
   ]
  },
  {
   "cell_type": "code",
   "execution_count": 41,
   "metadata": {
    "colab": {
     "base_uri": "https://localhost:8080/"
    },
    "id": "b57Nd77I8F6F",
    "outputId": "746ac2ea-a9e4-4e81-b2d9-d5d4b9a36595"
   },
   "outputs": [
    {
     "name": "stdout",
     "output_type": "stream",
     "text": [
      "790\n"
     ]
    }
   ],
   "source": [
    "for i in range(len(user_followers)):\n",
    "    if((user_friends[i]+user_followers[i])==0):\n",
    "        print (i)"
   ]
  },
  {
   "cell_type": "code",
   "execution_count": 42,
   "metadata": {
    "id": "n3uqq3Du8LVi"
   },
   "outputs": [],
   "source": [
    "data_df=data_df.drop(data_df.index[790])"
   ]
  },
  {
   "cell_type": "code",
   "execution_count": 43,
   "metadata": {
    "id": "XGRgyDhH8Qpb"
   },
   "outputs": [],
   "source": [
    "user_followers = list(data_df['followers_count'])\n",
    "user_friends = list(data_df['friends_count'])\n",
    "for i in range(len(user_friends)):\n",
    "    if((user_friends[i]+user_followers[i])==0):\n",
    "        print (i)"
   ]
  },
  {
   "cell_type": "code",
   "execution_count": 44,
   "metadata": {
    "colab": {
     "base_uri": "https://localhost:8080/"
    },
    "id": "MxsKB_ID8Qrx",
    "outputId": "da9e3983-aba7-4a5b-9656-5be4954f94e8"
   },
   "outputs": [
    {
     "name": "stdout",
     "output_type": "stream",
     "text": [
      "[1.0, 0.002857142857142857, 1.0, 1.0, 0.01455026455026455, 0.0053475935828877, 1.0, 0.9997569571029287, 1.0, 0.9444444444444444]\n"
     ]
    }
   ],
   "source": [
    "reputation = [0 for x in range(len(data_df))]\n",
    "i = 0\n",
    "y = 0 \n",
    "f = 0\n",
    "#y_actual = data_df['isfake']\n",
    "#y_actual =list(y_actual)\n",
    "for i in range(len(reputation)):\n",
    "  #  if(user_friends[i]>user_follows[i] * 5):\n",
    "    reputation[i]= user_followers[i]/(user_friends[i]+user_followers[i])\n",
    "    i=i+1\n",
    "print(reputation[0:10])"
   ]
  },
  {
   "cell_type": "code",
   "execution_count": 45,
   "metadata": {
    "colab": {
     "base_uri": "https://localhost:8080/"
    },
    "id": "_WCz--DS8QvA",
    "outputId": "9a1cae2c-f3d0-4318-f55e-7c351eb40caa"
   },
   "outputs": [
    {
     "data": {
      "text/plain": [
       "1320"
      ]
     },
     "execution_count": 45,
     "metadata": {},
     "output_type": "execute_result"
    }
   ],
   "source": [
    "unique_ids = data_df['id']\n",
    "len(unique_ids)"
   ]
  },
  {
   "cell_type": "code",
   "execution_count": 46,
   "metadata": {
    "colab": {
     "base_uri": "https://localhost:8080/",
     "height": 423
    },
    "id": "fh8do8Oq8c0s",
    "outputId": "a51ba24b-0d9c-40ba-c994-51d8e399c496"
   },
   "outputs": [
    {
     "data": {
      "text/html": [
       "<div>\n",
       "<style scoped>\n",
       "    .dataframe tbody tr th:only-of-type {\n",
       "        vertical-align: middle;\n",
       "    }\n",
       "\n",
       "    .dataframe tbody tr th {\n",
       "        vertical-align: top;\n",
       "    }\n",
       "\n",
       "    .dataframe thead th {\n",
       "        text-align: right;\n",
       "    }\n",
       "</style>\n",
       "<table border=\"1\" class=\"dataframe\">\n",
       "  <thead>\n",
       "    <tr style=\"text-align: right;\">\n",
       "      <th></th>\n",
       "      <th>user_id</th>\n",
       "      <th>reputation of user</th>\n",
       "      <th>is_spam</th>\n",
       "    </tr>\n",
       "  </thead>\n",
       "  <tbody>\n",
       "    <tr>\n",
       "      <th>0</th>\n",
       "      <td>8.160000e+17</td>\n",
       "      <td>1.000000</td>\n",
       "      <td>1</td>\n",
       "    </tr>\n",
       "    <tr>\n",
       "      <th>1</th>\n",
       "      <td>4.843621e+09</td>\n",
       "      <td>0.002857</td>\n",
       "      <td>1</td>\n",
       "    </tr>\n",
       "    <tr>\n",
       "      <th>2</th>\n",
       "      <td>4.303727e+09</td>\n",
       "      <td>1.000000</td>\n",
       "      <td>1</td>\n",
       "    </tr>\n",
       "    <tr>\n",
       "      <th>3</th>\n",
       "      <td>3.063139e+09</td>\n",
       "      <td>1.000000</td>\n",
       "      <td>1</td>\n",
       "    </tr>\n",
       "    <tr>\n",
       "      <th>4</th>\n",
       "      <td>2.955142e+09</td>\n",
       "      <td>0.014550</td>\n",
       "      <td>1</td>\n",
       "    </tr>\n",
       "    <tr>\n",
       "      <th>...</th>\n",
       "      <td>...</td>\n",
       "      <td>...</td>\n",
       "      <td>...</td>\n",
       "    </tr>\n",
       "    <tr>\n",
       "      <th>1316</th>\n",
       "      <td>3.299611e+09</td>\n",
       "      <td>1.000000</td>\n",
       "      <td>1</td>\n",
       "    </tr>\n",
       "    <tr>\n",
       "      <th>1317</th>\n",
       "      <td>7.450000e+17</td>\n",
       "      <td>0.972973</td>\n",
       "      <td>1</td>\n",
       "    </tr>\n",
       "    <tr>\n",
       "      <th>1318</th>\n",
       "      <td>2.598999e+09</td>\n",
       "      <td>0.652174</td>\n",
       "      <td>1</td>\n",
       "    </tr>\n",
       "    <tr>\n",
       "      <th>1319</th>\n",
       "      <td>2.386845e+09</td>\n",
       "      <td>1.000000</td>\n",
       "      <td>1</td>\n",
       "    </tr>\n",
       "    <tr>\n",
       "      <th>1320</th>\n",
       "      <td>8.130000e+17</td>\n",
       "      <td>0.041413</td>\n",
       "      <td>1</td>\n",
       "    </tr>\n",
       "  </tbody>\n",
       "</table>\n",
       "<p>1320 rows × 3 columns</p>\n",
       "</div>"
      ],
      "text/plain": [
       "           user_id  reputation of user  is_spam\n",
       "0     8.160000e+17            1.000000        1\n",
       "1     4.843621e+09            0.002857        1\n",
       "2     4.303727e+09            1.000000        1\n",
       "3     3.063139e+09            1.000000        1\n",
       "4     2.955142e+09            0.014550        1\n",
       "...            ...                 ...      ...\n",
       "1316  3.299611e+09            1.000000        1\n",
       "1317  7.450000e+17            0.972973        1\n",
       "1318  2.598999e+09            0.652174        1\n",
       "1319  2.386845e+09            1.000000        1\n",
       "1320  8.130000e+17            0.041413        1\n",
       "\n",
       "[1320 rows x 3 columns]"
      ]
     },
     "execution_count": 46,
     "metadata": {},
     "output_type": "execute_result"
    }
   ],
   "source": [
    "final_df = pd.DataFrame(\n",
    "    {'user_id': unique_ids,\n",
    "     'reputation of user': reputation,\n",
    "     'is_spam': data_df['bot'],\n",
    "    })\n",
    "final_df"
   ]
  },
  {
   "cell_type": "code",
   "execution_count": 47,
   "metadata": {
    "colab": {
     "base_uri": "https://localhost:8080/",
     "height": 423
    },
    "id": "poAFzjhO8c4O",
    "outputId": "72ed7023-151e-43c8-9701-8a1a56033eaa"
   },
   "outputs": [
    {
     "data": {
      "text/html": [
       "<div>\n",
       "<style scoped>\n",
       "    .dataframe tbody tr th:only-of-type {\n",
       "        vertical-align: middle;\n",
       "    }\n",
       "\n",
       "    .dataframe tbody tr th {\n",
       "        vertical-align: top;\n",
       "    }\n",
       "\n",
       "    .dataframe thead th {\n",
       "        text-align: right;\n",
       "    }\n",
       "</style>\n",
       "<table border=\"1\" class=\"dataframe\">\n",
       "  <thead>\n",
       "    <tr style=\"text-align: right;\">\n",
       "      <th></th>\n",
       "      <th>user_id</th>\n",
       "      <th>reputation of user</th>\n",
       "      <th>is_spam</th>\n",
       "    </tr>\n",
       "  </thead>\n",
       "  <tbody>\n",
       "    <tr>\n",
       "      <th>428</th>\n",
       "      <td>2.425231e+06</td>\n",
       "      <td>1.000000</td>\n",
       "      <td>1</td>\n",
       "    </tr>\n",
       "    <tr>\n",
       "      <th>60</th>\n",
       "      <td>8.752222e+06</td>\n",
       "      <td>0.941388</td>\n",
       "      <td>1</td>\n",
       "    </tr>\n",
       "    <tr>\n",
       "      <th>1102</th>\n",
       "      <td>1.072963e+07</td>\n",
       "      <td>0.999526</td>\n",
       "      <td>1</td>\n",
       "    </tr>\n",
       "    <tr>\n",
       "      <th>598</th>\n",
       "      <td>1.405239e+07</td>\n",
       "      <td>0.736185</td>\n",
       "      <td>1</td>\n",
       "    </tr>\n",
       "    <tr>\n",
       "      <th>494</th>\n",
       "      <td>1.514642e+07</td>\n",
       "      <td>0.533333</td>\n",
       "      <td>1</td>\n",
       "    </tr>\n",
       "    <tr>\n",
       "      <th>...</th>\n",
       "      <td>...</td>\n",
       "      <td>...</td>\n",
       "      <td>...</td>\n",
       "    </tr>\n",
       "    <tr>\n",
       "      <th>580</th>\n",
       "      <td>8.410000e+17</td>\n",
       "      <td>0.000000</td>\n",
       "      <td>1</td>\n",
       "    </tr>\n",
       "    <tr>\n",
       "      <th>610</th>\n",
       "      <td>8.410000e+17</td>\n",
       "      <td>0.230159</td>\n",
       "      <td>1</td>\n",
       "    </tr>\n",
       "    <tr>\n",
       "      <th>611</th>\n",
       "      <td>8.410000e+17</td>\n",
       "      <td>0.000000</td>\n",
       "      <td>1</td>\n",
       "    </tr>\n",
       "    <tr>\n",
       "      <th>676</th>\n",
       "      <td>8.410000e+17</td>\n",
       "      <td>0.000000</td>\n",
       "      <td>1</td>\n",
       "    </tr>\n",
       "    <tr>\n",
       "      <th>501</th>\n",
       "      <td>8.410000e+17</td>\n",
       "      <td>0.073276</td>\n",
       "      <td>1</td>\n",
       "    </tr>\n",
       "  </tbody>\n",
       "</table>\n",
       "<p>1320 rows × 3 columns</p>\n",
       "</div>"
      ],
      "text/plain": [
       "           user_id  reputation of user  is_spam\n",
       "428   2.425231e+06            1.000000        1\n",
       "60    8.752222e+06            0.941388        1\n",
       "1102  1.072963e+07            0.999526        1\n",
       "598   1.405239e+07            0.736185        1\n",
       "494   1.514642e+07            0.533333        1\n",
       "...            ...                 ...      ...\n",
       "580   8.410000e+17            0.000000        1\n",
       "610   8.410000e+17            0.230159        1\n",
       "611   8.410000e+17            0.000000        1\n",
       "676   8.410000e+17            0.000000        1\n",
       "501   8.410000e+17            0.073276        1\n",
       "\n",
       "[1320 rows x 3 columns]"
      ]
     },
     "execution_count": 47,
     "metadata": {},
     "output_type": "execute_result"
    }
   ],
   "source": [
    "final_df.sort_values(by=['user_id'])"
   ]
  },
  {
   "cell_type": "code",
   "execution_count": 48,
   "metadata": {
    "colab": {
     "base_uri": "https://localhost:8080/"
    },
    "id": "8yWWl4Kj8war",
    "outputId": "e8782411-cbd1-4566-e98c-54929cf6c216"
   },
   "outputs": [
    {
     "data": {
      "text/plain": [
       "RandomForestClassifier()"
      ]
     },
     "execution_count": 48,
     "metadata": {},
     "output_type": "execute_result"
    }
   ],
   "source": [
    "rfc_model = RandomForestClassifier()\n",
    "rfc_model.fit(X_train, y_train) "
   ]
  },
  {
   "cell_type": "code",
   "execution_count": 49,
   "metadata": {
    "id": "gXc3TO7cQxw4"
   },
   "outputs": [],
   "source": [
    "y_pred = rfc_model.predict(X_test)"
   ]
  },
  {
   "cell_type": "code",
   "execution_count": 50,
   "metadata": {
    "colab": {
     "base_uri": "https://localhost:8080/"
    },
    "id": "UmVhZc11Qx5e",
    "outputId": "f36db701-9661-44fe-c13b-3e7c7a353236"
   },
   "outputs": [
    {
     "name": "stdout",
     "output_type": "stream",
     "text": [
      "              precision    recall  f1-score   support\n",
      "\n",
      "       Human       0.88      0.90      0.89       423\n",
      "         Bot       0.90      0.88      0.89       417\n",
      "\n",
      "    accuracy                           0.89       840\n",
      "   macro avg       0.89      0.89      0.89       840\n",
      "weighted avg       0.89      0.89      0.89       840\n",
      "\n"
     ]
    }
   ],
   "source": [
    "from sklearn.metrics import classification_report, confusion_matrix\n",
    "print(classification_report(y_test, y_pred, target_names=['Human', 'Bot']))"
   ]
  },
  {
   "cell_type": "code",
   "execution_count": 51,
   "metadata": {
    "colab": {
     "base_uri": "https://localhost:8080/"
    },
    "id": "HdDXiyNbQx9G",
    "outputId": "0fda82bd-6a2a-40b9-f32f-0d4dc5f162ed"
   },
   "outputs": [
    {
     "name": "stdout",
     "output_type": "stream",
     "text": [
      "[[381  42]\n",
      " [ 50 367]]\n",
      "True Negatives: 381, False Positives: 42, False Negatives: 50, True Positives: 367\n"
     ]
    }
   ],
   "source": [
    "print(confusion_matrix(y_test, y_pred))\n",
    "tn, fp, fn, tp = confusion_matrix(y_test, y_pred).ravel()\n",
    "print(f\"True Negatives: {tn}, False Positives: {fp}, False Negatives: {fn}, True Positives: {tp}\")"
   ]
  },
  {
   "cell_type": "code",
   "execution_count": null,
   "metadata": {
    "id": "YE1Bu_R5m34K"
   },
   "outputs": [],
   "source": []
  },
  {
   "cell_type": "markdown",
   "metadata": {
    "id": "W71ogXHMDIGb"
   },
   "source": [
    "# **Save the Model**"
   ]
  },
  {
   "cell_type": "code",
   "execution_count": 52,
   "metadata": {
    "id": "-gMxGk1zDLp0"
   },
   "outputs": [],
   "source": [
    "#loading library\n",
    "import pickle\n"
   ]
  },
  {
   "cell_type": "code",
   "execution_count": 53,
   "metadata": {
    "id": "bpUQkRmUDL2O"
   },
   "outputs": [],
   "source": [
    "# create an iterator object with write permission - model.pkl\n",
    "with open('model_pkl', 'wb') as files:\n",
    "    pickle.dump(rf, files)"
   ]
  },
  {
   "cell_type": "code",
   "execution_count": 55,
   "metadata": {
    "id": "3ODT263qDL5k"
   },
   "outputs": [
    {
     "name": "stdout",
     "output_type": "stream",
     "text": [
      "Collecting requests\n",
      "  Downloading requests-2.27.1-py2.py3-none-any.whl (63 kB)\n",
      "Collecting idna<4,>=2.5\n",
      "  Using cached idna-3.3-py3-none-any.whl (61 kB)\n",
      "Collecting charset-normalizer~=2.0.0\n",
      "  Downloading charset_normalizer-2.0.12-py3-none-any.whl (39 kB)\n",
      "Collecting urllib3<1.27,>=1.21.1\n",
      "  Downloading urllib3-1.26.8-py2.py3-none-any.whl (138 kB)\n",
      "Collecting certifi>=2017.4.17\n",
      "  Using cached certifi-2021.10.8-py2.py3-none-any.whl (149 kB)\n",
      "Installing collected packages: urllib3, idna, charset-normalizer, certifi, requests\n",
      "Successfully installed certifi-2021.10.8 charset-normalizer-2.0.12 idna-3.3 requests-2.27.1 urllib3-1.26.8\n",
      "Note: you may need to restart the kernel to use updated packages.\n"
     ]
    },
    {
     "name": "stderr",
     "output_type": "stream",
     "text": [
      "WARNING: You are using pip version 21.1.2; however, version 22.0.3 is available.\n",
      "You should consider upgrading via the 'c:\\users\\hp\\pycharmprojects\\jupnot\\venv\\scripts\\python.exe -m pip install --upgrade pip' command.\n"
     ]
    }
   ],
   "source": [
    "pip install requests"
   ]
  },
  {
   "cell_type": "code",
   "execution_count": 1,
   "metadata": {},
   "outputs": [],
   "source": [
    "import requests"
   ]
  },
  {
   "cell_type": "code",
   "execution_count": null,
   "metadata": {},
   "outputs": [],
   "source": []
  },
  {
   "cell_type": "code",
   "execution_count": null,
   "metadata": {},
   "outputs": [],
   "source": []
  }
 ],
 "metadata": {
  "colab": {
   "collapsed_sections": [],
   "name": "Bot Detection.ipynb",
   "provenance": []
  },
  "kernelspec": {
   "display_name": "Python 3 (ipykernel)",
   "language": "python",
   "name": "python3"
  },
  "language_info": {
   "codemirror_mode": {
    "name": "ipython",
    "version": 3
   },
   "file_extension": ".py",
   "mimetype": "text/x-python",
   "name": "python",
   "nbconvert_exporter": "python",
   "pygments_lexer": "ipython3",
   "version": "3.10.1"
  }
 },
 "nbformat": 4,
 "nbformat_minor": 1
}
